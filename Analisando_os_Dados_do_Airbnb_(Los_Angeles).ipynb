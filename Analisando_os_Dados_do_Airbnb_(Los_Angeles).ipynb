{
  "nbformat": 4,
  "nbformat_minor": 0,
  "metadata": {
    "colab": {
      "provenance": [],
      "include_colab_link": true
    },
    "kernelspec": {
      "name": "python3",
      "display_name": "Python 3"
    }
  },
  "cells": [
    {
      "cell_type": "markdown",
      "metadata": {
        "id": "view-in-github",
        "colab_type": "text"
      },
      "source": [
        "<a href=\"https://colab.research.google.com/github/gabrielmartini1/Airbnb_Data_Analysis_LA/blob/main/Analisando_os_Dados_do_Airbnb_(Los_Angeles).ipynb\" target=\"_parent\"><img src=\"https://colab.research.google.com/assets/colab-badge.svg\" alt=\"Open In Colab\"/></a>"
      ]
    },
    {
      "cell_type": "markdown",
      "metadata": {
        "id": "kLI0gJtzDGuQ"
      },
      "source": [
        "---\n",
        "\n",
        "## Análise dos Dados do Airbnb - **Los Angeles, Califórnia**\n",
        "\n",
        "---\n",
        "<p>by Gabriel Martini - Data Scientist</p>\n",
        "<p>February 28, 2023</p><br>\n",
        "\n",
        "<img alt=\"Los Angeles City\" width=\"100%\" src=\"https://img.freepik.com/fotos-gratis/bela-cidade-com-altos-arranha-ceus-brilhando-sob-o-ceu-colorido-a-noite_181624-44575.jpg?size=626&ext=jpg&ga=GA1.2.2077709365.1677601041&semt=robertav1\">\n",
        "<br>\n",
        "\n",
        "<p align=\"justify\">Los Angeles é uma cidade conhecida por suas praias, vida noturna, atrações culturais e gastronomia. É uma das cidades mais visitadas dos Estados Unidos, recebendo milhões de visitantes todos os anos. Portanto, a indústria hoteleira tem uma posição central na economia local.</p>\n",
        "\n",
        "<p align=\"justify\">Com o surgimento de plataformas de compartilhamento de \n",
        "acomodações, como o Airbnb, muitos turistas estão optando por alugar apartamentos e casas de moradores locais em vez de ficar em hotéis tradicionais. Logo, a indústria da hospitalidade começou a enfrentar a concorrência direta dos proprietários que alugavam espaços.</p>\n",
        "\n",
        "<p align=\"justify\">O Airbnb é uma plataforma online que permite às pessoas alugar acomodações, desde quartos compartilhados até casas inteiras. As empresas ganham dinheiro cobrando taxas de serviço de anfitriões e hóspedes.</p>\n",
        "\n",
        "<p align=\"justify\">Conectando pessoas que querem viajar e anfitriões que querem alugar suas propriedades com comodidade, o Airbnb oferece uma plataforma inovadora para oferecer essa opção de hospedagem.</p>\n",
        "\n",
        "<p align=\"justify\">Fundada em 2008, a empresa expandiu-se rapidamente e hoje está presente em 220 países, atingindo mais de 750 milhões de pessoas com 4 milhões de anúncios ativos em sua plataforma.</p>\n",
        "\n",
        "<p align=\"justify\">O Airbnb enfrenta a concorrência de outras empresas de aluguel de curto prazo, como Vrbo e Booking.com, além de hotéis e pousadas tradicionais.</p>\n",
        "\n",
        "<p align=\"justify\">No entanto, a tendência gerou uma série de controvérsias em Los Angeles. Muitos proprietários de hotéis reclamaram do impacto negativo do Airbnb em seu setor, alegando que a plataforma compete deslealmente com hotéis tradicionais e não está sujeita aos mesmos regulamentos e impostos.</p>\n",
        "\n",
        "<p align=\"justify\">Por um lado, os defensores do Airbnb argumentam que a plataforma oferece uma opção mais barata e conveniente para os turistas e permite que os residentes locais ganhem uma renda extra alugando suas propriedades. Os críticos, por outro lado, argumentam que a falta de regulamentação pode levar a problemas como a gentrificação (fenômeno socioespacial urbano caracterizado pelo aumento do custo de vida em certas partes da cidade) e a degradação ambiental de bairros inteiros. qualidade de vida dos moradores.</p>\n",
        "\n",
        "<p align=\"justify\">Em resposta a essas críticas, a cidade de Los Angeles implementou regras específicas para serviços de aluguel de curto prazo, como o Airbnb.</p>\n",
        "\n",
        "<p align=\"justify\">Em 2018, a cidade aprovou uma nova lei exigindo que todos os proprietários que oferecem aluguel de curto prazo em suas propriedades se registrem e paguem uma taxa de licenciamento anual. Além disso, as propriedades só podem ser alugadas por um período máximo de 120 dias por ano, e os proprietários devem aderir a regras restritas em relação à segurança e manutenção da propriedade.</p>\n",
        "\n",
        "<p align=\"justify\">Esses regulamentos foram criados para proteger os consumidores e garantir que o setor hoteleiro de Los Angeles opere de maneira justa e equilibrada. No entanto, eles também geraram polêmica entre os defensores do Airbnb, que dizem que as regras são muito restritivas e prejudiciais à economia compartilhada da cidade. Independentemente disso, o Airbnb continua sendo uma escolha popular para os visitantes de Los Angeles e deve continuar sendo um tópico de discussão e debate na cidade.</p>\n",
        "\n",
        "<p align=\"justify\">Em resumo, a questão da regulação do Airbnb em Los Angeles é um tópico complexo e controverso, que envolve múltiplos interesses e pontos de vista. As regulamentações atuais visam equilibrar os interesses dos moradores locais, turistas e indústria hoteleira, mas ainda há muito debate em torno da adequação e eficácia dessas medidas.</p>\n",
        "\n",
        "<p align=\"justify\">O principal objetivo desta pesquisa exploratória, deve-se ao levantamento de insights para um melhor entendimento sobre o mercado de hospedagem em Los Angeles.  Os insights são informações valiosas que podem ser usadas para a tomada de decisões, gerar ideias ou melhorar processos.</p><br>"
      ]
    },
    {
      "cell_type": "markdown",
      "metadata": {
        "id": "0zxQHhIUDF_2"
      },
      "source": [
        "## **Obtenção dos Dados**"
      ]
    },
    {
      "cell_type": "markdown",
      "source": [
        "Para a realização desta análise exploratória dos dados, referente à cidade de Los Angeles, todas as informações foram extraídas do portal [Inside Airbnb](http://insideairbnb.com/get-the-data.html), utilizando o arquivo de captura (versão resumida) [listings.csv](http://data.insideairbnb.com/united-states/ca/los-angeles/2022-12-06/visualisations/listings.csv), e tratado por meio da linguagem Python.\n",
        "<br>\n",
        "<p align=\"justify\">Inicialmente, temos que ter uma noção geral do nosso dataset e, posteriormente, identificar todas as variáveis presentes, limpar os dados ausentes ou nulos e corrigir possíveis valores discrepantes, denominados de outliers, que podem interferir no resultado final da análise.</p>"
      ],
      "metadata": {
        "id": "O0hjLZXg82g9"
      }
    },
    {
      "cell_type": "code",
      "metadata": {
        "id": "Vhp2wMPgJ6zX",
        "colab": {
          "base_uri": "https://localhost:8080/"
        },
        "outputId": "4c6c69c8-d76c-46c1-c09c-0c4294e194d1"
      },
      "source": [
        "# importando os pacotes necessarios (bibliotecas)\n",
        "import pandas as pd\n",
        "import numpy as np\n",
        "import matplotlib.pyplot as plt\n",
        "import seaborn as sns\n",
        "%matplotlib inline\n",
        "import folium\n",
        "from folium.plugins import MarkerCluster, HeatMap\n",
        "\n",
        "!pip install pywaffle -q\n",
        "!pip install plotly==5.1.0 -q\n",
        "from pywaffle import Waffle\n",
        "import plotly.express as px"
      ],
      "execution_count": 1,
      "outputs": [
        {
          "output_type": "stream",
          "name": "stdout",
          "text": [
            "\u001b[2K     \u001b[90m━━━━━━━━━━━━━━━━━━━━━━━━━━━━━━━━━━━━━━━━\u001b[0m \u001b[32m31.4/31.4 MB\u001b[0m \u001b[31m20.9 MB/s\u001b[0m eta \u001b[36m0:00:00\u001b[0m\n",
            "\u001b[2K     \u001b[90m━━━━━━━━━━━━━━━━━━━━━━━━━━━━━━━━━━━━━━━━\u001b[0m \u001b[32m20.6/20.6 MB\u001b[0m \u001b[31m25.1 MB/s\u001b[0m eta \u001b[36m0:00:00\u001b[0m\n",
            "\u001b[?25h"
          ]
        }
      ]
    },
    {
      "cell_type": "code",
      "metadata": {
        "id": "tUmoAT8DLQ5T"
      },
      "source": [
        "# importar o arquivo listings.csv (Summary information and metrics for listings in Los Angeles ) para um DataFrame\n",
        "df = pd.read_csv(\"http://data.insideairbnb.com/united-states/ca/los-angeles/2022-12-06/visualisations/listings.csv\")"
      ],
      "execution_count": 2,
      "outputs": []
    },
    {
      "cell_type": "markdown",
      "metadata": {
        "id": "qb5By2nIMS6m"
      },
      "source": [
        "## **Análise dos Dados**"
      ]
    },
    {
      "cell_type": "markdown",
      "metadata": {
        "id": "RYgvuebKNg8-"
      },
      "source": [
        "**Dicionário das variáveis**\n",
        "\n",
        "* `id` - chave de id gerado para identificar o imóvel\n",
        "* `name` - nome da propriedade anunciada\n",
        "* `host_id` - chave de id do proprietário (anfitrião) da propriedade\n",
        "* `host_name` - nome do proprietário do imóvel (anfitrião)\n",
        "* `neighbourhood_group` - esta coluna não contém nenhum valor válido\n",
        "* `neighbourhood` - nome do bairro onde está localizado o imóvel\n",
        "* `latitude` - coordenada da latitude da propriedade\n",
        "* `longitude` - coordenada da longitude da propriedade\n",
        "* `room_type` - apresenta o tipo de quarto que é oferecido\n",
        "* `price` - preço da hospedagem por noite \n",
        "* `minimum_nights` - número mínimo de noites que os hóspedes devem ficar\n",
        "* `number_of_reviews` - número total de avaliações recebidas pelo anúncio\n",
        "* `last_review` - data da última avaliação do imóvel\n",
        "* `reviews_per_month` - número médio de avaliações recebidas por mês\n",
        "* `calculated_host_listings_count` - número de anúncios de hospedagem do mesmo anfitrião\n",
        "* `availability_365` - número de dias em que o anúncio está disponível para reserva no período de 1 ano\n",
        "\n",
        "<br>\n",
        "\n",
        "**1 - Análise descritiva dos dados**\n",
        "<p align=\"justify\">Nesta etapa, faremos o levantamento estatístico descritivo dos dados, ou seja, vamos obter os resultados da média, mediana, desvio padrão, correlação, mínimo e máximo para analisarmos a distribuição dos dados.</p><br>\n",
        "\n",
        "**2 - Análise geoespacial**\n",
        "<p align=\"justify\">Os dados de localização dos imóveis podem ser utilizados para criar mapas que mostram a distribuição das hospedagens em diferentes áreas de Los Angeles. Isso pode ajudar a identificar as áreas mais populares entre os turistas, e ainda, avaliar a concorrência entre hospedagens.</p><br>\n",
        "\n",
        "**3 - Análise de preços**\n",
        "<p align=\"justify\">Será possível analisar os preços das hospedagens em diferentes áreas de Los Angeles e identificar padrões e tendências nos preços. Por exemplo, podemos verificar se existem áreas mais caras ou mais baratas para se hospedar em Los Angeles.</p><br>\n",
        "\n",
        "**4 - Análise de comentários e avaliações (reviews)**\n",
        "<p align=\"justify\">Esses dados podem ser utilizados para avaliar a qualidade das hospedagens em Los Angeles e identificar possíveis pontos de melhoria para os imóveis dos anfitriões.</p><br>\n",
        "\n",
        "**5 - Análise de tendências ao longo do tempo**\n",
        "<p align=\"justify\">É possível analisar os dados ao longo do tempo para identificar tendências e padrões sazonais no mercado de hospedagem em Los Angeles. Um ótimo exemplo seria verificar se existem épocas do ano em que a demanda por hospedagens é maior ou se os preços praticados das hospedagens variam ao longo do ano.</p>"
      ]
    },
    {
      "cell_type": "markdown",
      "source": [
        "## **Os primeiros passos**"
      ],
      "metadata": {
        "id": "rpSpKKW9fNz7"
      }
    },
    {
      "cell_type": "markdown",
      "source": [
        "<p align=\"justify\">Um padrão muito praticado entre os cientistas de dados quando se trabalha com um novo dataset, é obter uma rápida visão das primeiras linhas do arquivo, incluindo as informações de cabeçalho. Essa etapa é útil para ter uma idéia geral dos dados e das variáveis disponíveis.</p>"
      ],
      "metadata": {
        "id": "bAzXusrP486s"
      }
    },
    {
      "cell_type": "code",
      "metadata": {
        "id": "2iS_dae7YQtO",
        "colab": {
          "base_uri": "https://localhost:8080/",
          "height": 565
        },
        "outputId": "481b73e3-6a95-43e2-aa71-0f993b6d2d58"
      },
      "source": [
        "# Visualizar as 5 primeiras entradas do dataset\n",
        "df.head()"
      ],
      "execution_count": null,
      "outputs": [
        {
          "output_type": "execute_result",
          "data": {
            "text/plain": [
              "       id                                               name  host_id  \\\n",
              "0     109  Amazing bright elegant condo park front *UPGRA...      521   \n",
              "1    2708  Runyon Canyon | Beau Furn Mirror Mini-Suite Fi...     3008   \n",
              "2    2732                              Zen Life at the Beach     3041   \n",
              "3   65467                       A Luxury Home in Los Angeles    61864   \n",
              "4  206662                 Hollywood & Hiking, 30 day minimum    33861   \n",
              "\n",
              "        host_name  neighbourhood_group         neighbourhood  latitude  \\\n",
              "0           Paolo         Other Cities           Culver City  33.98301   \n",
              "1           Chas.  City of Los Angeles             Hollywood  34.09625   \n",
              "2  Yoga Priestess         Other Cities          Santa Monica  34.00440   \n",
              "3         Olivier         Other Cities           Culver City  34.02438   \n",
              "4           Kevin  City of Los Angeles  Hollywood Hills West  34.10420   \n",
              "\n",
              "   longitude        room_type  price  minimum_nights  number_of_reviews  \\\n",
              "0 -118.38607  Entire home/apt    115              30                  2   \n",
              "1 -118.34605     Private room    118              30                 38   \n",
              "2 -118.48095     Private room    179               7                 24   \n",
              "3 -118.38374     Private room    300              60                  0   \n",
              "4 -118.34748     Private room     46              30                 95   \n",
              "\n",
              "  last_review  reviews_per_month  calculated_host_listings_count  \\\n",
              "0  2016-05-15               0.01                               1   \n",
              "1  2022-11-29               0.37                               2   \n",
              "2  2022-08-21               0.17                               2   \n",
              "3         NaN                NaN                               2   \n",
              "4  2022-08-11               0.71                               1   \n",
              "\n",
              "   availability_365  number_of_reviews_ltm license  \n",
              "0               227                      0     NaN  \n",
              "1               239                      5     NaN  \n",
              "2               365                      3     NaN  \n",
              "3               365                      0     NaN  \n",
              "4                84                      4     NaN  "
            ],
            "text/html": [
              "\n",
              "  <div id=\"df-62731fd6-ec54-4a9a-a2fd-68d45982e246\">\n",
              "    <div class=\"colab-df-container\">\n",
              "      <div>\n",
              "<style scoped>\n",
              "    .dataframe tbody tr th:only-of-type {\n",
              "        vertical-align: middle;\n",
              "    }\n",
              "\n",
              "    .dataframe tbody tr th {\n",
              "        vertical-align: top;\n",
              "    }\n",
              "\n",
              "    .dataframe thead th {\n",
              "        text-align: right;\n",
              "    }\n",
              "</style>\n",
              "<table border=\"1\" class=\"dataframe\">\n",
              "  <thead>\n",
              "    <tr style=\"text-align: right;\">\n",
              "      <th></th>\n",
              "      <th>id</th>\n",
              "      <th>name</th>\n",
              "      <th>host_id</th>\n",
              "      <th>host_name</th>\n",
              "      <th>neighbourhood_group</th>\n",
              "      <th>neighbourhood</th>\n",
              "      <th>latitude</th>\n",
              "      <th>longitude</th>\n",
              "      <th>room_type</th>\n",
              "      <th>price</th>\n",
              "      <th>minimum_nights</th>\n",
              "      <th>number_of_reviews</th>\n",
              "      <th>last_review</th>\n",
              "      <th>reviews_per_month</th>\n",
              "      <th>calculated_host_listings_count</th>\n",
              "      <th>availability_365</th>\n",
              "      <th>number_of_reviews_ltm</th>\n",
              "      <th>license</th>\n",
              "    </tr>\n",
              "  </thead>\n",
              "  <tbody>\n",
              "    <tr>\n",
              "      <th>0</th>\n",
              "      <td>109</td>\n",
              "      <td>Amazing bright elegant condo park front *UPGRA...</td>\n",
              "      <td>521</td>\n",
              "      <td>Paolo</td>\n",
              "      <td>Other Cities</td>\n",
              "      <td>Culver City</td>\n",
              "      <td>33.98301</td>\n",
              "      <td>-118.38607</td>\n",
              "      <td>Entire home/apt</td>\n",
              "      <td>115</td>\n",
              "      <td>30</td>\n",
              "      <td>2</td>\n",
              "      <td>2016-05-15</td>\n",
              "      <td>0.01</td>\n",
              "      <td>1</td>\n",
              "      <td>227</td>\n",
              "      <td>0</td>\n",
              "      <td>NaN</td>\n",
              "    </tr>\n",
              "    <tr>\n",
              "      <th>1</th>\n",
              "      <td>2708</td>\n",
              "      <td>Runyon Canyon | Beau Furn Mirror Mini-Suite Fi...</td>\n",
              "      <td>3008</td>\n",
              "      <td>Chas.</td>\n",
              "      <td>City of Los Angeles</td>\n",
              "      <td>Hollywood</td>\n",
              "      <td>34.09625</td>\n",
              "      <td>-118.34605</td>\n",
              "      <td>Private room</td>\n",
              "      <td>118</td>\n",
              "      <td>30</td>\n",
              "      <td>38</td>\n",
              "      <td>2022-11-29</td>\n",
              "      <td>0.37</td>\n",
              "      <td>2</td>\n",
              "      <td>239</td>\n",
              "      <td>5</td>\n",
              "      <td>NaN</td>\n",
              "    </tr>\n",
              "    <tr>\n",
              "      <th>2</th>\n",
              "      <td>2732</td>\n",
              "      <td>Zen Life at the Beach</td>\n",
              "      <td>3041</td>\n",
              "      <td>Yoga Priestess</td>\n",
              "      <td>Other Cities</td>\n",
              "      <td>Santa Monica</td>\n",
              "      <td>34.00440</td>\n",
              "      <td>-118.48095</td>\n",
              "      <td>Private room</td>\n",
              "      <td>179</td>\n",
              "      <td>7</td>\n",
              "      <td>24</td>\n",
              "      <td>2022-08-21</td>\n",
              "      <td>0.17</td>\n",
              "      <td>2</td>\n",
              "      <td>365</td>\n",
              "      <td>3</td>\n",
              "      <td>NaN</td>\n",
              "    </tr>\n",
              "    <tr>\n",
              "      <th>3</th>\n",
              "      <td>65467</td>\n",
              "      <td>A Luxury Home in Los Angeles</td>\n",
              "      <td>61864</td>\n",
              "      <td>Olivier</td>\n",
              "      <td>Other Cities</td>\n",
              "      <td>Culver City</td>\n",
              "      <td>34.02438</td>\n",
              "      <td>-118.38374</td>\n",
              "      <td>Private room</td>\n",
              "      <td>300</td>\n",
              "      <td>60</td>\n",
              "      <td>0</td>\n",
              "      <td>NaN</td>\n",
              "      <td>NaN</td>\n",
              "      <td>2</td>\n",
              "      <td>365</td>\n",
              "      <td>0</td>\n",
              "      <td>NaN</td>\n",
              "    </tr>\n",
              "    <tr>\n",
              "      <th>4</th>\n",
              "      <td>206662</td>\n",
              "      <td>Hollywood &amp; Hiking, 30 day minimum</td>\n",
              "      <td>33861</td>\n",
              "      <td>Kevin</td>\n",
              "      <td>City of Los Angeles</td>\n",
              "      <td>Hollywood Hills West</td>\n",
              "      <td>34.10420</td>\n",
              "      <td>-118.34748</td>\n",
              "      <td>Private room</td>\n",
              "      <td>46</td>\n",
              "      <td>30</td>\n",
              "      <td>95</td>\n",
              "      <td>2022-08-11</td>\n",
              "      <td>0.71</td>\n",
              "      <td>1</td>\n",
              "      <td>84</td>\n",
              "      <td>4</td>\n",
              "      <td>NaN</td>\n",
              "    </tr>\n",
              "  </tbody>\n",
              "</table>\n",
              "</div>\n",
              "      <button class=\"colab-df-convert\" onclick=\"convertToInteractive('df-62731fd6-ec54-4a9a-a2fd-68d45982e246')\"\n",
              "              title=\"Convert this dataframe to an interactive table.\"\n",
              "              style=\"display:none;\">\n",
              "        \n",
              "  <svg xmlns=\"http://www.w3.org/2000/svg\" height=\"24px\"viewBox=\"0 0 24 24\"\n",
              "       width=\"24px\">\n",
              "    <path d=\"M0 0h24v24H0V0z\" fill=\"none\"/>\n",
              "    <path d=\"M18.56 5.44l.94 2.06.94-2.06 2.06-.94-2.06-.94-.94-2.06-.94 2.06-2.06.94zm-11 1L8.5 8.5l.94-2.06 2.06-.94-2.06-.94L8.5 2.5l-.94 2.06-2.06.94zm10 10l.94 2.06.94-2.06 2.06-.94-2.06-.94-.94-2.06-.94 2.06-2.06.94z\"/><path d=\"M17.41 7.96l-1.37-1.37c-.4-.4-.92-.59-1.43-.59-.52 0-1.04.2-1.43.59L10.3 9.45l-7.72 7.72c-.78.78-.78 2.05 0 2.83L4 21.41c.39.39.9.59 1.41.59.51 0 1.02-.2 1.41-.59l7.78-7.78 2.81-2.81c.8-.78.8-2.07 0-2.86zM5.41 20L4 18.59l7.72-7.72 1.47 1.35L5.41 20z\"/>\n",
              "  </svg>\n",
              "      </button>\n",
              "      \n",
              "  <style>\n",
              "    .colab-df-container {\n",
              "      display:flex;\n",
              "      flex-wrap:wrap;\n",
              "      gap: 12px;\n",
              "    }\n",
              "\n",
              "    .colab-df-convert {\n",
              "      background-color: #E8F0FE;\n",
              "      border: none;\n",
              "      border-radius: 50%;\n",
              "      cursor: pointer;\n",
              "      display: none;\n",
              "      fill: #1967D2;\n",
              "      height: 32px;\n",
              "      padding: 0 0 0 0;\n",
              "      width: 32px;\n",
              "    }\n",
              "\n",
              "    .colab-df-convert:hover {\n",
              "      background-color: #E2EBFA;\n",
              "      box-shadow: 0px 1px 2px rgba(60, 64, 67, 0.3), 0px 1px 3px 1px rgba(60, 64, 67, 0.15);\n",
              "      fill: #174EA6;\n",
              "    }\n",
              "\n",
              "    [theme=dark] .colab-df-convert {\n",
              "      background-color: #3B4455;\n",
              "      fill: #D2E3FC;\n",
              "    }\n",
              "\n",
              "    [theme=dark] .colab-df-convert:hover {\n",
              "      background-color: #434B5C;\n",
              "      box-shadow: 0px 1px 3px 1px rgba(0, 0, 0, 0.15);\n",
              "      filter: drop-shadow(0px 1px 2px rgba(0, 0, 0, 0.3));\n",
              "      fill: #FFFFFF;\n",
              "    }\n",
              "  </style>\n",
              "\n",
              "      <script>\n",
              "        const buttonEl =\n",
              "          document.querySelector('#df-62731fd6-ec54-4a9a-a2fd-68d45982e246 button.colab-df-convert');\n",
              "        buttonEl.style.display =\n",
              "          google.colab.kernel.accessAllowed ? 'block' : 'none';\n",
              "\n",
              "        async function convertToInteractive(key) {\n",
              "          const element = document.querySelector('#df-62731fd6-ec54-4a9a-a2fd-68d45982e246');\n",
              "          const dataTable =\n",
              "            await google.colab.kernel.invokeFunction('convertToInteractive',\n",
              "                                                     [key], {});\n",
              "          if (!dataTable) return;\n",
              "\n",
              "          const docLinkHtml = 'Like what you see? Visit the ' +\n",
              "            '<a target=\"_blank\" href=https://colab.research.google.com/notebooks/data_table.ipynb>data table notebook</a>'\n",
              "            + ' to learn more about interactive tables.';\n",
              "          element.innerHTML = '';\n",
              "          dataTable['output_type'] = 'display_data';\n",
              "          await google.colab.output.renderOutput(dataTable, element);\n",
              "          const docLink = document.createElement('div');\n",
              "          docLink.innerHTML = docLinkHtml;\n",
              "          element.appendChild(docLink);\n",
              "        }\n",
              "      </script>\n",
              "    </div>\n",
              "  </div>\n",
              "  "
            ]
          },
          "metadata": {},
          "execution_count": 3
        }
      ]
    },
    {
      "cell_type": "code",
      "source": [
        "# Visualizar as 5 últimas entradas do dataset\n",
        "df.tail()"
      ],
      "metadata": {
        "colab": {
          "base_uri": "https://localhost:8080/",
          "height": 548
        },
        "id": "iIPIbYXN0fZM",
        "outputId": "ca220a41-fd13-4563-be6e-6ea38fc74996"
      },
      "execution_count": null,
      "outputs": [
        {
          "output_type": "execute_result",
          "data": {
            "text/plain": [
              "                       id                                  name    host_id  \\\n",
              "40433  774860592421665035      Cozy Hollywood Studio with Patio  458988009   \n",
              "40434  774864578948159716      Playa Vista  2BR W/ Private Wifi  187543153   \n",
              "40435  774866706304798119          Centrally Located LA Retreat   41968542   \n",
              "40436  774872573559544018  2BR Bungalow in Culver City-Near LAX  462077128   \n",
              "40437  774889783296314664                 洛杉矶*熙臻行馆Venetian 独立雅房  183748799   \n",
              "\n",
              "       host_name  neighbourhood_group   neighbourhood   latitude   longitude  \\\n",
              "40433  Hollywood         Other Cities  West Hollywood  34.091006 -118.344620   \n",
              "40434     Elliot  City of Los Angeles     Playa Vista  33.975508 -118.430657   \n",
              "40435         Mo  City of Los Angeles    Leimert Park  34.014228 -118.320888   \n",
              "40436     Aileen         Other Cities     Culver City  33.985194 -118.393408   \n",
              "40437        Amy         Other Cities        Alhambra  34.070314 -118.134431   \n",
              "\n",
              "             room_type  price  minimum_nights  number_of_reviews last_review  \\\n",
              "40433  Entire home/apt    128               3                  0         NaN   \n",
              "40434  Entire home/apt    180              30                  0         NaN   \n",
              "40435  Entire home/apt    104              30                  0         NaN   \n",
              "40436  Entire home/apt    167               1                  0         NaN   \n",
              "40437     Private room     81               2                  0         NaN   \n",
              "\n",
              "       reviews_per_month  calculated_host_listings_count  availability_365  \\\n",
              "40433                NaN                              24               176   \n",
              "40434                NaN                              56                30   \n",
              "40435                NaN                               3               144   \n",
              "40436                NaN                               6               360   \n",
              "40437                NaN                              44               364   \n",
              "\n",
              "       number_of_reviews_ltm license  \n",
              "40433                      0     NaN  \n",
              "40434                      0     NaN  \n",
              "40435                      0     NaN  \n",
              "40436                      0     NaN  \n",
              "40437                      0     NaN  "
            ],
            "text/html": [
              "\n",
              "  <div id=\"df-a932f37a-7738-43f1-88ce-1407b1a5fa3d\">\n",
              "    <div class=\"colab-df-container\">\n",
              "      <div>\n",
              "<style scoped>\n",
              "    .dataframe tbody tr th:only-of-type {\n",
              "        vertical-align: middle;\n",
              "    }\n",
              "\n",
              "    .dataframe tbody tr th {\n",
              "        vertical-align: top;\n",
              "    }\n",
              "\n",
              "    .dataframe thead th {\n",
              "        text-align: right;\n",
              "    }\n",
              "</style>\n",
              "<table border=\"1\" class=\"dataframe\">\n",
              "  <thead>\n",
              "    <tr style=\"text-align: right;\">\n",
              "      <th></th>\n",
              "      <th>id</th>\n",
              "      <th>name</th>\n",
              "      <th>host_id</th>\n",
              "      <th>host_name</th>\n",
              "      <th>neighbourhood_group</th>\n",
              "      <th>neighbourhood</th>\n",
              "      <th>latitude</th>\n",
              "      <th>longitude</th>\n",
              "      <th>room_type</th>\n",
              "      <th>price</th>\n",
              "      <th>minimum_nights</th>\n",
              "      <th>number_of_reviews</th>\n",
              "      <th>last_review</th>\n",
              "      <th>reviews_per_month</th>\n",
              "      <th>calculated_host_listings_count</th>\n",
              "      <th>availability_365</th>\n",
              "      <th>number_of_reviews_ltm</th>\n",
              "      <th>license</th>\n",
              "    </tr>\n",
              "  </thead>\n",
              "  <tbody>\n",
              "    <tr>\n",
              "      <th>40433</th>\n",
              "      <td>774860592421665035</td>\n",
              "      <td>Cozy Hollywood Studio with Patio</td>\n",
              "      <td>458988009</td>\n",
              "      <td>Hollywood</td>\n",
              "      <td>Other Cities</td>\n",
              "      <td>West Hollywood</td>\n",
              "      <td>34.091006</td>\n",
              "      <td>-118.344620</td>\n",
              "      <td>Entire home/apt</td>\n",
              "      <td>128</td>\n",
              "      <td>3</td>\n",
              "      <td>0</td>\n",
              "      <td>NaN</td>\n",
              "      <td>NaN</td>\n",
              "      <td>24</td>\n",
              "      <td>176</td>\n",
              "      <td>0</td>\n",
              "      <td>NaN</td>\n",
              "    </tr>\n",
              "    <tr>\n",
              "      <th>40434</th>\n",
              "      <td>774864578948159716</td>\n",
              "      <td>Playa Vista  2BR W/ Private Wifi</td>\n",
              "      <td>187543153</td>\n",
              "      <td>Elliot</td>\n",
              "      <td>City of Los Angeles</td>\n",
              "      <td>Playa Vista</td>\n",
              "      <td>33.975508</td>\n",
              "      <td>-118.430657</td>\n",
              "      <td>Entire home/apt</td>\n",
              "      <td>180</td>\n",
              "      <td>30</td>\n",
              "      <td>0</td>\n",
              "      <td>NaN</td>\n",
              "      <td>NaN</td>\n",
              "      <td>56</td>\n",
              "      <td>30</td>\n",
              "      <td>0</td>\n",
              "      <td>NaN</td>\n",
              "    </tr>\n",
              "    <tr>\n",
              "      <th>40435</th>\n",
              "      <td>774866706304798119</td>\n",
              "      <td>Centrally Located LA Retreat</td>\n",
              "      <td>41968542</td>\n",
              "      <td>Mo</td>\n",
              "      <td>City of Los Angeles</td>\n",
              "      <td>Leimert Park</td>\n",
              "      <td>34.014228</td>\n",
              "      <td>-118.320888</td>\n",
              "      <td>Entire home/apt</td>\n",
              "      <td>104</td>\n",
              "      <td>30</td>\n",
              "      <td>0</td>\n",
              "      <td>NaN</td>\n",
              "      <td>NaN</td>\n",
              "      <td>3</td>\n",
              "      <td>144</td>\n",
              "      <td>0</td>\n",
              "      <td>NaN</td>\n",
              "    </tr>\n",
              "    <tr>\n",
              "      <th>40436</th>\n",
              "      <td>774872573559544018</td>\n",
              "      <td>2BR Bungalow in Culver City-Near LAX</td>\n",
              "      <td>462077128</td>\n",
              "      <td>Aileen</td>\n",
              "      <td>Other Cities</td>\n",
              "      <td>Culver City</td>\n",
              "      <td>33.985194</td>\n",
              "      <td>-118.393408</td>\n",
              "      <td>Entire home/apt</td>\n",
              "      <td>167</td>\n",
              "      <td>1</td>\n",
              "      <td>0</td>\n",
              "      <td>NaN</td>\n",
              "      <td>NaN</td>\n",
              "      <td>6</td>\n",
              "      <td>360</td>\n",
              "      <td>0</td>\n",
              "      <td>NaN</td>\n",
              "    </tr>\n",
              "    <tr>\n",
              "      <th>40437</th>\n",
              "      <td>774889783296314664</td>\n",
              "      <td>洛杉矶*熙臻行馆Venetian 独立雅房</td>\n",
              "      <td>183748799</td>\n",
              "      <td>Amy</td>\n",
              "      <td>Other Cities</td>\n",
              "      <td>Alhambra</td>\n",
              "      <td>34.070314</td>\n",
              "      <td>-118.134431</td>\n",
              "      <td>Private room</td>\n",
              "      <td>81</td>\n",
              "      <td>2</td>\n",
              "      <td>0</td>\n",
              "      <td>NaN</td>\n",
              "      <td>NaN</td>\n",
              "      <td>44</td>\n",
              "      <td>364</td>\n",
              "      <td>0</td>\n",
              "      <td>NaN</td>\n",
              "    </tr>\n",
              "  </tbody>\n",
              "</table>\n",
              "</div>\n",
              "      <button class=\"colab-df-convert\" onclick=\"convertToInteractive('df-a932f37a-7738-43f1-88ce-1407b1a5fa3d')\"\n",
              "              title=\"Convert this dataframe to an interactive table.\"\n",
              "              style=\"display:none;\">\n",
              "        \n",
              "  <svg xmlns=\"http://www.w3.org/2000/svg\" height=\"24px\"viewBox=\"0 0 24 24\"\n",
              "       width=\"24px\">\n",
              "    <path d=\"M0 0h24v24H0V0z\" fill=\"none\"/>\n",
              "    <path d=\"M18.56 5.44l.94 2.06.94-2.06 2.06-.94-2.06-.94-.94-2.06-.94 2.06-2.06.94zm-11 1L8.5 8.5l.94-2.06 2.06-.94-2.06-.94L8.5 2.5l-.94 2.06-2.06.94zm10 10l.94 2.06.94-2.06 2.06-.94-2.06-.94-.94-2.06-.94 2.06-2.06.94z\"/><path d=\"M17.41 7.96l-1.37-1.37c-.4-.4-.92-.59-1.43-.59-.52 0-1.04.2-1.43.59L10.3 9.45l-7.72 7.72c-.78.78-.78 2.05 0 2.83L4 21.41c.39.39.9.59 1.41.59.51 0 1.02-.2 1.41-.59l7.78-7.78 2.81-2.81c.8-.78.8-2.07 0-2.86zM5.41 20L4 18.59l7.72-7.72 1.47 1.35L5.41 20z\"/>\n",
              "  </svg>\n",
              "      </button>\n",
              "      \n",
              "  <style>\n",
              "    .colab-df-container {\n",
              "      display:flex;\n",
              "      flex-wrap:wrap;\n",
              "      gap: 12px;\n",
              "    }\n",
              "\n",
              "    .colab-df-convert {\n",
              "      background-color: #E8F0FE;\n",
              "      border: none;\n",
              "      border-radius: 50%;\n",
              "      cursor: pointer;\n",
              "      display: none;\n",
              "      fill: #1967D2;\n",
              "      height: 32px;\n",
              "      padding: 0 0 0 0;\n",
              "      width: 32px;\n",
              "    }\n",
              "\n",
              "    .colab-df-convert:hover {\n",
              "      background-color: #E2EBFA;\n",
              "      box-shadow: 0px 1px 2px rgba(60, 64, 67, 0.3), 0px 1px 3px 1px rgba(60, 64, 67, 0.15);\n",
              "      fill: #174EA6;\n",
              "    }\n",
              "\n",
              "    [theme=dark] .colab-df-convert {\n",
              "      background-color: #3B4455;\n",
              "      fill: #D2E3FC;\n",
              "    }\n",
              "\n",
              "    [theme=dark] .colab-df-convert:hover {\n",
              "      background-color: #434B5C;\n",
              "      box-shadow: 0px 1px 3px 1px rgba(0, 0, 0, 0.15);\n",
              "      filter: drop-shadow(0px 1px 2px rgba(0, 0, 0, 0.3));\n",
              "      fill: #FFFFFF;\n",
              "    }\n",
              "  </style>\n",
              "\n",
              "      <script>\n",
              "        const buttonEl =\n",
              "          document.querySelector('#df-a932f37a-7738-43f1-88ce-1407b1a5fa3d button.colab-df-convert');\n",
              "        buttonEl.style.display =\n",
              "          google.colab.kernel.accessAllowed ? 'block' : 'none';\n",
              "\n",
              "        async function convertToInteractive(key) {\n",
              "          const element = document.querySelector('#df-a932f37a-7738-43f1-88ce-1407b1a5fa3d');\n",
              "          const dataTable =\n",
              "            await google.colab.kernel.invokeFunction('convertToInteractive',\n",
              "                                                     [key], {});\n",
              "          if (!dataTable) return;\n",
              "\n",
              "          const docLinkHtml = 'Like what you see? Visit the ' +\n",
              "            '<a target=\"_blank\" href=https://colab.research.google.com/notebooks/data_table.ipynb>data table notebook</a>'\n",
              "            + ' to learn more about interactive tables.';\n",
              "          element.innerHTML = '';\n",
              "          dataTable['output_type'] = 'display_data';\n",
              "          await google.colab.output.renderOutput(dataTable, element);\n",
              "          const docLink = document.createElement('div');\n",
              "          docLink.innerHTML = docLinkHtml;\n",
              "          element.appendChild(docLink);\n",
              "        }\n",
              "      </script>\n",
              "    </div>\n",
              "  </div>\n",
              "  "
            ]
          },
          "metadata": {},
          "execution_count": 5
        }
      ]
    },
    {
      "cell_type": "markdown",
      "metadata": {
        "id": "6-B_qtEaYEd-"
      },
      "source": [
        "### **Q1. Quantos atributos (variáveis) e quantas entradas o nosso conjunto de dados possui? Quais os tipos das variáveis?**"
      ]
    },
    {
      "cell_type": "markdown",
      "source": [
        "<p align=\"justify\">Utilizando o comando shape[ ], onde [0] mostra o nº total de linhas ou registros e [1] exibe o total de atributos ou variáveis do dataset, podemos verificar que essa base de dados (versão resumida), apresentou 40.438 registros entre 18 colunas."
      ],
      "metadata": {
        "id": "W1U-OzlcxQwK"
      }
    },
    {
      "cell_type": "code",
      "metadata": {
        "id": "TFRK0tniLV-G",
        "colab": {
          "base_uri": "https://localhost:8080/",
          "height": 399
        },
        "outputId": "d572e31d-d69b-48b3-ecbb-484494e976d9"
      },
      "source": [
        "# identificar o volume de dados do DataFrame\n",
        "# [0] linhas | [1] colunas\n",
        "\n",
        "print(f'N° de entradas: {df.shape[0]:>6}')\n",
        "\n",
        "print(f'N° de variáveis: {df.shape[1]:>5}\\n')\n",
        "\n",
        "# verificar os tipos de variáveis\n",
        "display(df.dtypes)"
      ],
      "execution_count": null,
      "outputs": [
        {
          "output_type": "stream",
          "name": "stdout",
          "text": [
            "N° de entradas:  40438\n",
            "N° de variáveis:    18\n",
            "\n"
          ]
        },
        {
          "output_type": "display_data",
          "data": {
            "text/plain": [
              "id                                  int64\n",
              "name                               object\n",
              "host_id                             int64\n",
              "host_name                          object\n",
              "neighbourhood_group                object\n",
              "neighbourhood                      object\n",
              "latitude                          float64\n",
              "longitude                         float64\n",
              "room_type                          object\n",
              "price                               int64\n",
              "minimum_nights                      int64\n",
              "number_of_reviews                   int64\n",
              "last_review                        object\n",
              "reviews_per_month                 float64\n",
              "calculated_host_listings_count      int64\n",
              "availability_365                    int64\n",
              "number_of_reviews_ltm               int64\n",
              "license                            object\n",
              "dtype: object"
            ]
          },
          "metadata": {}
        }
      ]
    },
    {
      "cell_type": "code",
      "source": [
        "# Contar o número total de registros (considerando outliers no dataset)\n",
        "num_registros = len(df)\n",
        "print(\"Número total de hospedagens: \", num_registros)"
      ],
      "metadata": {
        "colab": {
          "base_uri": "https://localhost:8080/"
        },
        "id": "RUQZ5YuNWKdL",
        "outputId": "43665fc2-e9e2-48fb-c5b8-e232efacdb8c"
      },
      "execution_count": null,
      "outputs": [
        {
          "output_type": "stream",
          "name": "stdout",
          "text": [
            "Número total de hospedagens:  40438\n"
          ]
        }
      ]
    },
    {
      "cell_type": "markdown",
      "metadata": {
        "id": "yz1urSUGW9iE"
      },
      "source": [
        "### **Q2. Qual a porcentagem de valores ausentes no *dataset*?**"
      ]
    },
    {
      "cell_type": "markdown",
      "source": [
        "<p align=\"justify\">Antes de iniciarmos a etapa da análise descritiva dos dados, será necessário efetuar uma limpeza prévia dos registros do dataset para verificarmos os possíveis valores ausentes ou nulos, e também, os valores que são considerados como outliers (discrepantes) que podem interferir na conclusão dos insights.</p>\n",
        "\n",
        "<p align=\"justify\">A qualidade de um dataset está diretamente relacionada à quantidade de valores ausentes. É importante entender logo no início se esses valores nulos são significativos comparados ao total de entradas.</p>\n",
        "\n",
        "<p align=\"justify\">Utilizando o comando \"isnull.sum()\", conseguimos visualizar o total de registros ausentes na nossa base de dados.</p>\n"
      ],
      "metadata": {
        "id": "mfv56PpcI7nU"
      }
    },
    {
      "cell_type": "code",
      "source": [
        "# ver a quantidade de valores ausentes\n",
        "df.isnull().sum()"
      ],
      "metadata": {
        "colab": {
          "base_uri": "https://localhost:8080/"
        },
        "id": "lW8eKCmiUiEa",
        "outputId": "a4cadf49-9839-4e19-bc50-334385bcd21f"
      },
      "execution_count": null,
      "outputs": [
        {
          "output_type": "execute_result",
          "data": {
            "text/plain": [
              "id                                    0\n",
              "name                                  2\n",
              "host_id                               0\n",
              "host_name                             2\n",
              "neighbourhood_group                   0\n",
              "neighbourhood                         0\n",
              "latitude                              0\n",
              "longitude                             0\n",
              "room_type                             0\n",
              "price                                 0\n",
              "minimum_nights                        0\n",
              "number_of_reviews                     0\n",
              "last_review                       10585\n",
              "reviews_per_month                 10585\n",
              "calculated_host_listings_count        0\n",
              "availability_365                      0\n",
              "number_of_reviews_ltm                 0\n",
              "license                           30176\n",
              "dtype: int64"
            ]
          },
          "metadata": {},
          "execution_count": 21
        }
      ]
    },
    {
      "cell_type": "markdown",
      "source": [
        "<p align=\"justify\">Das informações apresentadas abaixo, foi possível verificar que a coluna 'license' está com 74,6% dos seus valores ausentes. Já as variáveis 'reviews_per_month' e 'last_review' possuem a mesma porcentagem de registros faltantes, 26,17% e as variáveis 'name' e 'host_name', com aproximadamente 0,005% dos dados ausentes.</p>"
      ],
      "metadata": {
        "id": "CoTm6CXazyzB"
      }
    },
    {
      "cell_type": "code",
      "source": [
        "# ordenar em ordem decrescente as variáveis por seus valores ausentes\n",
        "(df.isnull().sum() / df.shape[0]*100).sort_values(ascending=False)"
      ],
      "metadata": {
        "colab": {
          "base_uri": "https://localhost:8080/"
        },
        "id": "P26lLLfj74Al",
        "outputId": "a8549b08-a62a-462d-c17e-772e874168f9"
      },
      "execution_count": null,
      "outputs": [
        {
          "output_type": "execute_result",
          "data": {
            "text/plain": [
              "license                           74.622879\n",
              "reviews_per_month                 26.175874\n",
              "last_review                       26.175874\n",
              "host_name                          0.004946\n",
              "name                               0.004946\n",
              "minimum_nights                     0.000000\n",
              "number_of_reviews_ltm              0.000000\n",
              "availability_365                   0.000000\n",
              "calculated_host_listings_count     0.000000\n",
              "number_of_reviews                  0.000000\n",
              "id                                 0.000000\n",
              "room_type                          0.000000\n",
              "longitude                          0.000000\n",
              "latitude                           0.000000\n",
              "neighbourhood                      0.000000\n",
              "neighbourhood_group                0.000000\n",
              "host_id                            0.000000\n",
              "price                              0.000000\n",
              "dtype: float64"
            ]
          },
          "metadata": {},
          "execution_count": 20
        }
      ]
    },
    {
      "cell_type": "markdown",
      "metadata": {
        "id": "iHXvvHIxaoNc"
      },
      "source": [
        "### **Q3. Qual o tipo de distribuição das variáveis?** \n",
        "\n",
        "<p align=\"justify\">Histogramas são uma maniera útil de visualizar a distribuição de uma variável. Elas mostram a frequência das observações para uma determinada faixa de valores, onde a largura de cada faixa é determinanda pelo parâmetro denominado 'bins', que especifica o número de faixas.</p>\n",
        "\n",
        "<p align=\"justify\">Uma distribuição normal, por exemplo, terá um pico no centro do histograma e uma queda gradual nas extremidades. Uma distribuição assimétrica terá um pico deslocado para a esquerda ou para a direita. Um histograma com vários picos pode indicar a presença de subgrupos na população.\n",
        "</p>\n",
        "\n",
        "<p align=\"justify\"> Os histogramas também podem ser usados para detectar valores discrepantes (outliers) e para avaliar a forma como os dados estão distribuídos. Se houver muitos valores extremos, por exemplo, a distribuição pode ser distorcida ou desequilibrada. Se os dados tiverem uma distribuição normal, podemos usar medidas como a média e o desvio padrão para descrever a distribuição.</p>\n",
        "\n",
        "<p align=\"justify\">Para identificar a distribuição das variáveis, iremos plotar o histograma, conforme abaixo:</p>"
      ]
    },
    {
      "cell_type": "code",
      "metadata": {
        "id": "q2wWSfeRbmBo",
        "colab": {
          "base_uri": "https://localhost:8080/",
          "height": 716
        },
        "outputId": "04853c36-9945-43d0-a6d9-96ba526151ba"
      },
      "source": [
        "# plotar o histograma das variáveis numéricas\n",
        "# bins: parâmetro que o histograma considera para criar as barras por nº de intervalos\n",
        "df.hist(bins=17, figsize=(17, 12), color='purple');"
      ],
      "execution_count": null,
      "outputs": [
        {
          "output_type": "display_data",
          "data": {
            "text/plain": [
              "<Figure size 1224x864 with 12 Axes>"
            ],
            "image/png": "[encoded data removed]"
          },
          "metadata": {
            "needs_background": "light"
          }
        }
      ]
    },
    {
      "cell_type": "markdown",
      "source": [
        "### **Q4. Há *outliers* presentes?**\n",
        "\n",
        "<p align=\"justify\">Pela distribuição do histograma, é possível verificar indícios da presença de outliers. Olhe por exemplo as variáveis 'price', 'minimum_nights' e 'reviews_per_month'.</p>\n",
        "\n",
        "<p align=\"justify\">Essas variáveis apresentam uma assimetria positiva ou também conhecida como assimetria para a direita, onde a cauda da curva de distribuição se estende para a direita, em direção aos valores maiores. Isso significa que a maioria dos valores dos dados estão concentrados na parte esquerda da curva e há alguns valores extremos maiores na parte direita.</p>\n",
        "\n",
        "<p align=\"justify\">Em outras palavras, a assimetria positiva ocorre quando a média é maior que a mediana e a moda, indicando que há mais valores à direita da mediana.</p>\n",
        "\n",
        "<p align=\"justify\">Logo, os valores não seguem uma distruição, e distorcem toda a representação gráfica. Para confirmar, há duas maneiras rápidas que auxiliam a detecção de outliers. São elas:</p>\n",
        "\n",
        "* Resumo estatístico por meio do método `describe()`\n",
        "* Plotar `boxplots` para a variável."
      ],
      "metadata": {
        "id": "0hvCrVqVI8W2"
      }
    },
    {
      "cell_type": "code",
      "source": [
        "# ver o resumo estatístico das variáveis numéricas\n",
        "df[['price', 'minimum_nights', 'number_of_reviews', 'availability_365',\n",
        "    'reviews_per_month', 'calculated_host_listings_count']].describe()"
      ],
      "metadata": {
        "colab": {
          "base_uri": "https://localhost:8080/",
          "height": 300
        },
        "id": "FPT-8SGoKS_3",
        "outputId": "f1b21e3d-b3c7-4fb3-bc71-0ca706d79d8b"
      },
      "execution_count": null,
      "outputs": [
        {
          "output_type": "execute_result",
          "data": {
            "text/plain": [
              "              price  minimum_nights  number_of_reviews  availability_365  \\\n",
              "count  40438.000000    40438.000000       40438.000000      40438.000000   \n",
              "mean     279.449602       18.700653          33.562021        198.164969   \n",
              "std     1136.463147       30.973639          72.691163        142.646899   \n",
              "min        0.000000        1.000000           0.000000          0.000000   \n",
              "25%       85.000000        2.000000           0.000000         62.000000   \n",
              "50%      138.000000       30.000000           5.000000        190.000000   \n",
              "75%      235.000000       30.000000          31.000000        348.000000   \n",
              "max    99999.000000     1124.000000        1924.000000        365.000000   \n",
              "\n",
              "       reviews_per_month  calculated_host_listings_count  \n",
              "count       29853.000000                    40438.000000  \n",
              "mean            1.499085                       32.550126  \n",
              "std             1.866809                      114.678176  \n",
              "min             0.010000                        1.000000  \n",
              "25%             0.240000                        1.000000  \n",
              "50%             0.800000                        2.000000  \n",
              "75%             2.250000                       10.000000  \n",
              "max            89.000000                      693.000000  "
            ],
            "text/html": [
              "\n",
              "  <div id=\"df-417e2ed9-56a6-452a-929a-7e8e174ee0f9\">\n",
              "    <div class=\"colab-df-container\">\n",
              "      <div>\n",
              "<style scoped>\n",
              "    .dataframe tbody tr th:only-of-type {\n",
              "        vertical-align: middle;\n",
              "    }\n",
              "\n",
              "    .dataframe tbody tr th {\n",
              "        vertical-align: top;\n",
              "    }\n",
              "\n",
              "    .dataframe thead th {\n",
              "        text-align: right;\n",
              "    }\n",
              "</style>\n",
              "<table border=\"1\" class=\"dataframe\">\n",
              "  <thead>\n",
              "    <tr style=\"text-align: right;\">\n",
              "      <th></th>\n",
              "      <th>price</th>\n",
              "      <th>minimum_nights</th>\n",
              "      <th>number_of_reviews</th>\n",
              "      <th>availability_365</th>\n",
              "      <th>reviews_per_month</th>\n",
              "      <th>calculated_host_listings_count</th>\n",
              "    </tr>\n",
              "  </thead>\n",
              "  <tbody>\n",
              "    <tr>\n",
              "      <th>count</th>\n",
              "      <td>40438.000000</td>\n",
              "      <td>40438.000000</td>\n",
              "      <td>40438.000000</td>\n",
              "      <td>40438.000000</td>\n",
              "      <td>29853.000000</td>\n",
              "      <td>40438.000000</td>\n",
              "    </tr>\n",
              "    <tr>\n",
              "      <th>mean</th>\n",
              "      <td>279.449602</td>\n",
              "      <td>18.700653</td>\n",
              "      <td>33.562021</td>\n",
              "      <td>198.164969</td>\n",
              "      <td>1.499085</td>\n",
              "      <td>32.550126</td>\n",
              "    </tr>\n",
              "    <tr>\n",
              "      <th>std</th>\n",
              "      <td>1136.463147</td>\n",
              "      <td>30.973639</td>\n",
              "      <td>72.691163</td>\n",
              "      <td>142.646899</td>\n",
              "      <td>1.866809</td>\n",
              "      <td>114.678176</td>\n",
              "    </tr>\n",
              "    <tr>\n",
              "      <th>min</th>\n",
              "      <td>0.000000</td>\n",
              "      <td>1.000000</td>\n",
              "      <td>0.000000</td>\n",
              "      <td>0.000000</td>\n",
              "      <td>0.010000</td>\n",
              "      <td>1.000000</td>\n",
              "    </tr>\n",
              "    <tr>\n",
              "      <th>25%</th>\n",
              "      <td>85.000000</td>\n",
              "      <td>2.000000</td>\n",
              "      <td>0.000000</td>\n",
              "      <td>62.000000</td>\n",
              "      <td>0.240000</td>\n",
              "      <td>1.000000</td>\n",
              "    </tr>\n",
              "    <tr>\n",
              "      <th>50%</th>\n",
              "      <td>138.000000</td>\n",
              "      <td>30.000000</td>\n",
              "      <td>5.000000</td>\n",
              "      <td>190.000000</td>\n",
              "      <td>0.800000</td>\n",
              "      <td>2.000000</td>\n",
              "    </tr>\n",
              "    <tr>\n",
              "      <th>75%</th>\n",
              "      <td>235.000000</td>\n",
              "      <td>30.000000</td>\n",
              "      <td>31.000000</td>\n",
              "      <td>348.000000</td>\n",
              "      <td>2.250000</td>\n",
              "      <td>10.000000</td>\n",
              "    </tr>\n",
              "    <tr>\n",
              "      <th>max</th>\n",
              "      <td>99999.000000</td>\n",
              "      <td>1124.000000</td>\n",
              "      <td>1924.000000</td>\n",
              "      <td>365.000000</td>\n",
              "      <td>89.000000</td>\n",
              "      <td>693.000000</td>\n",
              "    </tr>\n",
              "  </tbody>\n",
              "</table>\n",
              "</div>\n",
              "      <button class=\"colab-df-convert\" onclick=\"convertToInteractive('df-417e2ed9-56a6-452a-929a-7e8e174ee0f9')\"\n",
              "              title=\"Convert this dataframe to an interactive table.\"\n",
              "              style=\"display:none;\">\n",
              "        \n",
              "  <svg xmlns=\"http://www.w3.org/2000/svg\" height=\"24px\"viewBox=\"0 0 24 24\"\n",
              "       width=\"24px\">\n",
              "    <path d=\"M0 0h24v24H0V0z\" fill=\"none\"/>\n",
              "    <path d=\"M18.56 5.44l.94 2.06.94-2.06 2.06-.94-2.06-.94-.94-2.06-.94 2.06-2.06.94zm-11 1L8.5 8.5l.94-2.06 2.06-.94-2.06-.94L8.5 2.5l-.94 2.06-2.06.94zm10 10l.94 2.06.94-2.06 2.06-.94-2.06-.94-.94-2.06-.94 2.06-2.06.94z\"/><path d=\"M17.41 7.96l-1.37-1.37c-.4-.4-.92-.59-1.43-.59-.52 0-1.04.2-1.43.59L10.3 9.45l-7.72 7.72c-.78.78-.78 2.05 0 2.83L4 21.41c.39.39.9.59 1.41.59.51 0 1.02-.2 1.41-.59l7.78-7.78 2.81-2.81c.8-.78.8-2.07 0-2.86zM5.41 20L4 18.59l7.72-7.72 1.47 1.35L5.41 20z\"/>\n",
              "  </svg>\n",
              "      </button>\n",
              "      \n",
              "  <style>\n",
              "    .colab-df-container {\n",
              "      display:flex;\n",
              "      flex-wrap:wrap;\n",
              "      gap: 12px;\n",
              "    }\n",
              "\n",
              "    .colab-df-convert {\n",
              "      background-color: #E8F0FE;\n",
              "      border: none;\n",
              "      border-radius: 50%;\n",
              "      cursor: pointer;\n",
              "      display: none;\n",
              "      fill: #1967D2;\n",
              "      height: 32px;\n",
              "      padding: 0 0 0 0;\n",
              "      width: 32px;\n",
              "    }\n",
              "\n",
              "    .colab-df-convert:hover {\n",
              "      background-color: #E2EBFA;\n",
              "      box-shadow: 0px 1px 2px rgba(60, 64, 67, 0.3), 0px 1px 3px 1px rgba(60, 64, 67, 0.15);\n",
              "      fill: #174EA6;\n",
              "    }\n",
              "\n",
              "    [theme=dark] .colab-df-convert {\n",
              "      background-color: #3B4455;\n",
              "      fill: #D2E3FC;\n",
              "    }\n",
              "\n",
              "    [theme=dark] .colab-df-convert:hover {\n",
              "      background-color: #434B5C;\n",
              "      box-shadow: 0px 1px 3px 1px rgba(0, 0, 0, 0.15);\n",
              "      filter: drop-shadow(0px 1px 2px rgba(0, 0, 0, 0.3));\n",
              "      fill: #FFFFFF;\n",
              "    }\n",
              "  </style>\n",
              "\n",
              "      <script>\n",
              "        const buttonEl =\n",
              "          document.querySelector('#df-417e2ed9-56a6-452a-929a-7e8e174ee0f9 button.colab-df-convert');\n",
              "        buttonEl.style.display =\n",
              "          google.colab.kernel.accessAllowed ? 'block' : 'none';\n",
              "\n",
              "        async function convertToInteractive(key) {\n",
              "          const element = document.querySelector('#df-417e2ed9-56a6-452a-929a-7e8e174ee0f9');\n",
              "          const dataTable =\n",
              "            await google.colab.kernel.invokeFunction('convertToInteractive',\n",
              "                                                     [key], {});\n",
              "          if (!dataTable) return;\n",
              "\n",
              "          const docLinkHtml = 'Like what you see? Visit the ' +\n",
              "            '<a target=\"_blank\" href=https://colab.research.google.com/notebooks/data_table.ipynb>data table notebook</a>'\n",
              "            + ' to learn more about interactive tables.';\n",
              "          element.innerHTML = '';\n",
              "          dataTable['output_type'] = 'display_data';\n",
              "          await google.colab.output.renderOutput(dataTable, element);\n",
              "          const docLink = document.createElement('div');\n",
              "          docLink.innerHTML = docLinkHtml;\n",
              "          element.appendChild(docLink);\n",
              "        }\n",
              "      </script>\n",
              "    </div>\n",
              "  </div>\n",
              "  "
            ]
          },
          "metadata": {},
          "execution_count": 22
        }
      ]
    },
    {
      "cell_type": "markdown",
      "source": [
        "<p align=\"justify\">Com base nos valores máximos e mínimos de cada coluna no resumo estatístico acima, podemos confirmar possíveis outliers no conjunto de dados:</p>\n",
        "\n",
        "* **Variável price**\n",
        "><p align='justify'>Tem uma média de 279,45 dólares por noite, porém a distribuição de preços é bastante ampla, com um desvio padrão de 1.136,46 dólares e um preço máximo de 99999 dólares, indicando que há grande variação nos preços em Los Angeles e que podem representar propriedades de luxo ou erro de registro.</p>\n",
        "\n",
        "* **Variável minimum_nights**\n",
        "><p align=\"justify\"> A maioria das propriedades requerem um mínimo de 4 noites de estadia. O valor mínimo é de 1 noite e o máximo é de 1.124 noites. Já o terceiro quartil é de apenas 30 noites, o que evidencia ser um resultado atípico.</p>\n",
        "\n",
        "* **Variável number_of_reviews**\n",
        "><p align=\"justify\">O valor máximo é de 1.924 avaliações, enquanto o valor médio é de 33 avaliações e o mínimo é de 0. Isso indica a presença de possíveis outliers com valores muito acima da média ou erros de registro.</p>\n",
        "\n",
        "* **Variável availability_365**\n",
        "><p align=\"justify\">O valor máximo é de 365 dias e o valor mínimo é de 0 dias, enquanto que o valor médio é de 198 dias. Isso indica também a presença de outliers na amostra com valores muito acima da média e que podem representar propriedades que ficam disponíveis durante todo o ano ou apenas erros de registro.</p>\n",
        "\n",
        "* **Variável reviews_per_month**\n",
        "><p align=\"justify\">O valor máximo é de 89 avaliações por mês, enquanto o valor médio é de 1,49 avaliações por mês e o mínimo de 0,01 avaliações por mês. Isso também indica a presença de outliers na amostra com possíveis erros de registro.</p>\n",
        "\n",
        "* **Variável calculated_host_listings_count**\n",
        "><p align=\"justify\">O valor máximo é de 693 propriedades listadas, enquanto o valor médio é de 32 propriedades e o valor mínimo é de 1 propriedade, indicando também uma possível presença de outliers com valores muito acima da média, que podem representar empresas com muitas propriedades listadas com erro de registro.</p>\n"
      ],
      "metadata": {
        "id": "uwxZvQbENf_x"
      }
    },
    {
      "cell_type": "markdown",
      "source": [
        "#### **Determinando o IQR Score**<br>\n",
        "\n",
        "Para determinar o IQR Score (Intervalor Interquartil) de qualquer variável, será necessário calcular anteriormente o seu quartil 1 (Q1) e o quartil 3 (Q3).\n",
        "\n",
        "Supondo que estamos calculando o IQR da variável \"price\", logo temos:\n",
        "\n",
        "* Q1 = df['price'].quantile(0.25)\n",
        "* Q3 = df['price'].quantile(0.75)\n",
        "* Portanto, IQR = Q3 - Q1\n",
        "\n",
        "Para calcularmos o limite inferior e superior, temos:<br>\n",
        "* limite_inferior  = Q1 - 1.5 * IQR<br>\n",
        "* limite_superior = Q3 + 1.5 * IQR\n",
        "\n",
        "Com o cálculo do IQR Score será possível encontrarmos os limites superior e inferior para cada variável. Sabendo que valores acima dos limites encontrados serão considerados outliers, logo poderão ser excluídos do dataset. \n",
        "\n",
        "Para trazer mais clareza ao assunto do IQR Score, vamos visualizar agora um exemplo do gráfico de caixa, que gera a representação da distribuição dos dados e outliers:\n",
        "<br><br>\n",
        "\n",
        "<img alt=\"Los Angeles City\" width=\"70%\" src=\"https://assets.datacamp.com/production/repositories/5758/datasets/ca7e6e1832be7ec1842f62891815a9b0488efa83/Screen%20Shot%202020-04-28%20at%2010.04.54%20AM.png\">\n",
        "\n",
        ">Fonte: [www.datacamp.com](https://campus.datacamp.com/courses/introduction-to-statistics-in-r/summary-statistics?ex=10)\n",
        "<br><br>"
      ],
      "metadata": {
        "id": "1YRWsDbtwvaN"
      }
    },
    {
      "cell_type": "markdown",
      "source": [
        "#### **IQR Score e Boxplot para a variável 'price'**"
      ],
      "metadata": {
        "id": "pUsJXr9jMHmJ"
      }
    },
    {
      "cell_type": "code",
      "source": [
        "# calculando o limite superior da variável price\n",
        "limite_superior = df['price'].quantile(0.75) + 1.5 * (df['price'].quantile(0.75) - df['price'].quantile(0.25))\n",
        "\n",
        "# calculando o limite inferior da variável price\n",
        "limite_inferior = df['price'].quantile(0.25) - 1.5 * (df['price'].quantile(0.75) - df['price'].quantile(0.25))\n",
        "\n",
        "print(f'Limite superior de price: US$ {limite_superior:.2f}')\n",
        "print(f'Limite inferior de price: US$ {limite_inferior:.2f}\\n')\n",
        "\n",
        "# price\n",
        "df.price.plot(kind=\"box\", vert=False, figsize=(15, 3), color = 'blue')\n",
        "plt.show()\n",
        "print('\\n')\n",
        "\n",
        "print(f'Acima do limite superior de US$ 460.00 =>  ', (len(df[df.price > 460])), 'entradas',\n",
        "      \"({:.2f}%)\".format((len(df[df.price > 460]) / df.shape[0])*100))\n",
        "# ou print(f'{len(df[df.price > 460]) / df.shape[0]*100:.2f}','%')\n",
        "\n",
        "print(f'Até o limite superior de US$ 460.00 ====> ', (len(df[df.price <= 460])),'entradas',\n",
        "      \"({:.2f}%)\".format((len(df[df.price <= 460]) / df.shape[0])*100))"
      ],
      "metadata": {
        "colab": {
          "base_uri": "https://localhost:8080/",
          "height": 332
        },
        "id": "BMIKsWv5TTS5",
        "outputId": "739deddf-b36f-43db-9dee-678b6525c8ba"
      },
      "execution_count": null,
      "outputs": [
        {
          "output_type": "stream",
          "name": "stdout",
          "text": [
            "Limite superior de price: US$ 460.00\n",
            "Limite inferior de price: US$ -140.00\n",
            "\n"
          ]
        },
        {
          "output_type": "display_data",
          "data": {
            "text/plain": [
              "<Figure size 1080x216 with 1 Axes>"
            ],
            "image/png": "[encoded data removed]"
          },
          "metadata": {
            "needs_background": "light"
          }
        },
        {
          "output_type": "stream",
          "name": "stdout",
          "text": [
            "\n",
            "\n",
            "Acima do limite superior de US$ 460.00 =>   3931 entradas (9.72%)\n",
            "Até o limite superior de US$ 460.00 ====>  36507 entradas (90.28%)\n"
          ]
        }
      ]
    },
    {
      "cell_type": "markdown",
      "source": [
        "><p align=\"justify\">O valor do limite superior da variável 'price' é de US$ 460.00, o que significa que qualquer valor acima desse limite é considerado um outlier.</p>\n",
        "\n",
        "><p align=\"justify\">O limite inferior é de US$ -140.00, sendo negativo, será desconsiderado para esta análise.</p>\n",
        "\n",
        "><p align=\"justify\">O número de entradas acima do limite superior é de 3.931, o que representa 9.72% do total de entradas.</p>\n",
        "\n",
        "<p align=\"justify\">Com base nesses resultados, podemos concluir que a maioria das listagens de airbnb em Los Angeles possui preços abaixo de US$ 460.00, mas há algumas propriedades muito caras incluídas nos dados que estão puxando a média para cima. Esses outliers devem ser analisados com cuidado antes de tirar qualquer conclusão sobre a distribuição dos preços das listagens de airbnb em Los Angeles.</p>"
      ],
      "metadata": {
        "id": "-xv6ZgEm4CZO"
      }
    },
    {
      "cell_type": "markdown",
      "source": [
        "#### **IQR Score e Boxplot para a variável 'minimum_nights'**"
      ],
      "metadata": {
        "id": "V811VDWKgVGa"
      }
    },
    {
      "cell_type": "code",
      "source": [
        "# calculando o limite superior da variável minimum_nights\n",
        "limite_superior = df['minimum_nights'].quantile(0.75) + 1.5 * (df['minimum_nights'].quantile(0.75) - df['minimum_nights'].quantile(0.25))\n",
        "\n",
        "# calculando o limite inferior da variável minimum_nights\n",
        "limite_inferior = df['minimum_nights'].quantile(0.25) - 1.5 * (df['minimum_nights'].quantile(0.75) - df['minimum_nights'].quantile(0.25))\n",
        "\n",
        "print(f'Limite superior de minimum_nights: {limite_superior:.2f}')\n",
        "print(f'Limite inferior de minimum_nights: {limite_inferior:.2f}\\n')\n",
        "\n",
        "# minimum_nights\n",
        "df.minimum_nights.plot(kind=\"box\", vert=False, figsize=(15, 3), color = 'blue')\n",
        "plt.show()\n",
        "print('\\n')\n",
        "\n",
        "print(f'Acima do limite superior de 72 =>  ', (len(df[df.minimum_nights > 72])),'entradas',\n",
        "      \"({:.2f}%)\".format((len(df[df.minimum_nights > 72]) / df.shape[0])*100))\n",
        "# ou print(f'{len(df[df.minimum_nights > 72]) / df.shape[0]*100:.2f}','%')\n",
        "\n",
        "print(f'Até o limite superior de 72 ====>', (len(df[df.minimum_nights <= 72])),'entradas',\n",
        "      \"({:.2f}%)\".format((len(df[df.minimum_nights <= 72]) / df.shape[0])*100))"
      ],
      "metadata": {
        "colab": {
          "base_uri": "https://localhost:8080/",
          "height": 332
        },
        "id": "0oHfP77bhE8K",
        "outputId": "4faae473-edac-414d-9f28-b6f8f9af3d59"
      },
      "execution_count": null,
      "outputs": [
        {
          "output_type": "stream",
          "name": "stdout",
          "text": [
            "Limite superior de minimum_nights: 72.00\n",
            "Limite inferior de minimum_nights: -40.00\n",
            "\n"
          ]
        },
        {
          "output_type": "display_data",
          "data": {
            "text/plain": [
              "<Figure size 1080x216 with 1 Axes>"
            ],
            "image/png": "[encoded data removed]"
          },
          "metadata": {
            "needs_background": "light"
          }
        },
        {
          "output_type": "stream",
          "name": "stdout",
          "text": [
            "\n",
            "\n",
            "Acima do limite superior de 72 =>   453 entradas (1.12%)\n",
            "Até o limite superior de 72 ====> 39985 entradas (98.88%)\n"
          ]
        }
      ]
    },
    {
      "cell_type": "markdown",
      "source": [
        "><p align=\"justify\">O código acima calcula os limites superior e inferior para a variável 'minimum nights' e mostra um boxplot (gráfico de caixa) para esta variável. Ele também exibe o número de entradas acima e abaixo do limite superior de 72.</p>\n",
        "\n",
        "><p align=\"justify\">A partir desses resultados, podemos concluir que:</p>\n",
        "\n",
        "><p align=\"justify\">O número de entradas acima do limite superior é 453, o que representa cerca de 1,12% de todas as entradas. Por outro lado, cerca de 98,88% das acomodações permitem que os hóspedes fiquem por um máximo de 72 noites.</p>"
      ],
      "metadata": {
        "id": "fLEKAC8H5NdJ"
      }
    },
    {
      "cell_type": "markdown",
      "source": [
        "#### **IQR Score e Boxplot para a variável 'reviews_per_month'**"
      ],
      "metadata": {
        "id": "YkNirM3PgqRi"
      }
    },
    {
      "cell_type": "code",
      "source": [
        "# calculando o limite superior da variável reviews_per_month\n",
        "limite_superior = df['reviews_per_month'].quantile(0.75) + 1.5 * (df['reviews_per_month'].quantile(0.75) - df['reviews_per_month'].quantile(0.25))\n",
        "\n",
        "# calculando o limite inferior da variável reviews_per_month\n",
        "limite_inferior = df['reviews_per_month'].quantile(0.25) - 1.5 * (df['reviews_per_month'].quantile(0.75) - df['reviews_per_month'].quantile(0.25))\n",
        "\n",
        "print(f'Limite superior de reviews_per_month: {limite_superior:.2f}')\n",
        "print(f'Limite inferior de reviews_per_month: {limite_inferior:.2f}\\n')\n",
        "\n",
        "# reviews_per_month\n",
        "df.reviews_per_month.plot(kind=\"box\", vert=False, figsize=(15, 3), color = 'blue')\n",
        "plt.show()\n",
        "print('\\n')\n",
        "\n",
        "print(f'Acima do limite superior de 5.26 =>  ', (len(df[df.reviews_per_month > 5.26])),'entradas',\n",
        "      \"({:.2f}%)\".format((len(df[df.reviews_per_month > 5.26]) / df.shape[0])*100))\n",
        "# ou print(f'{len(df[df.reviews_per_month > 5.26]) / df.shape[0]*100:.2f}','%')\n",
        "\n",
        "print(f'Até o limite superior de 5.26 ====>', (len(df[df.reviews_per_month <= 5.26])),'entradas',\n",
        "      \"({:.2f}%)\".format((len(df[df.reviews_per_month <= 5.26]) / df.shape[0])*100))"
      ],
      "metadata": {
        "colab": {
          "base_uri": "https://localhost:8080/",
          "height": 332
        },
        "id": "0n42gkTfvUBN",
        "outputId": "eaf54544-08cc-418f-cc9e-7d5268a109a1"
      },
      "execution_count": null,
      "outputs": [
        {
          "output_type": "stream",
          "name": "stdout",
          "text": [
            "Limite superior de reviews_per_month: 5.26\n",
            "Limite inferior de reviews_per_month: -2.77\n",
            "\n"
          ]
        },
        {
          "output_type": "display_data",
          "data": {
            "text/plain": [
              "<Figure size 1080x216 with 1 Axes>"
            ],
            "image/png": "[encoded data removed]"
          },
          "metadata": {
            "needs_background": "light"
          }
        },
        {
          "output_type": "stream",
          "name": "stdout",
          "text": [
            "\n",
            "\n",
            "Acima do limite superior de 5.26 =>   1223 entradas (3.02%)\n",
            "Até o limite superior de 5.26 ====> 28630 entradas (70.80%)\n"
          ]
        }
      ]
    },
    {
      "cell_type": "markdown",
      "source": [
        "><p align=\"justify\">O limite superior da variável 'reviews_per_month' é de 5.26 e o limite inferior é de -2.77, sendo descartado para as nossas análises por ser um valor negativo.</p>\n",
        "\n",
        "><p align=\"justify\">O gráfico de caixa mostra que a distribuição da variável 'reviews_per_month' é bastante assimétrica, com a maioria dos dados concentrados no lado esquerdo do gráfico.</p>\n",
        "\n",
        "><p align=\"justify\">O número de entradas acima do limite superior é de 1.223, o que representa 3,02% do total de entradas.</p>\n",
        "\n",
        "><p align=\"justify\">Com base nesses resultados, podemos concluir que a maioria das propriedades listadas no airbnb em Los Angeles recebe menos de 5,26 avaliações por mês, mas há algumas propriedades com um número muito alto de avaliações que estão puxando a média para cima. Mais uma vez, esses outliers devem ser analisados com cuidado antes de tirar qualquer conclusão sobre a distribuição dos valores da variável 'reviews_per_month' em Los Angeles.</p>"
      ],
      "metadata": {
        "id": "NJGaFmUNEcK1"
      }
    },
    {
      "cell_type": "markdown",
      "source": [
        "### **Tratamento dos dados (Limpeza)**\n",
        "\n",
        "<p align=\"justify\">Após deteminarmos o IQR Score e gerar os boxplots (gráfico de caixa) para as variáveis 'price', 'minimum_nights' e 'reviews_per_month', conseguimos observar que existem alguns outliers no dataset e agora precisam ser retirados para não influenciarem nos resultados dos insights.</p>"
      ],
      "metadata": {
        "id": "_2TkEE1HIpSP"
      }
    },
    {
      "cell_type": "code",
      "source": [
        "# Criando uma cópia do dataframe\n",
        "df_clean = df.copy()\n",
        "\n",
        "# excluindo os registros que estavam acima do limite superior das 3 variáveis \n",
        "df_clean.drop(df_clean[df_clean.price > 460].index, axis=0, inplace=True)\n",
        "df_clean.drop(df_clean[df_clean.minimum_nights > 72].index, axis=0, inplace=True)\n",
        "df_clean.drop(df_clean[df_clean.reviews_per_month > 5.26].index, axis=0, inplace=True)\n",
        "\n",
        "# excluindo as colunas irrelevantes\n",
        "df_clean.drop(columns = ['license'], axis=1, inplace=True)\n",
        "\n",
        "# preencher valores ausentes em  `reviews_per_month` e `last_review` com a mediana\n",
        "rd_median = df_clean.reviews_per_month.median()\n",
        "df_clean = df_clean.fillna({\"reviews_per_month\": rd_median})\n",
        "\n",
        "# converter a coluna last_review para datetime\n",
        "df_clean['last_review'] = pd.to_datetime(df_clean['last_review'])\n",
        "\n",
        "# substituir valores ausentes pela mediana\n",
        "rd_median = df_clean['last_review'].median()\n",
        "df_clean = df_clean.fillna({'last_review': rd_median})"
      ],
      "metadata": {
        "id": "BtAmIVb7egB6"
      },
      "execution_count": 3,
      "outputs": []
    },
    {
      "cell_type": "markdown",
      "source": [
        "<p align=\"justify\">Conforme apresentado acima, através das linhas de código, foi necessário excluirmos todos os registros que estavam acima do limite superior para as variáveis 'price', 'minimum_nights' e 'reviews_per_month', por se caracterizarem como outliers.</p>\n",
        "\n",
        "<p align=\"justify\">Como a coluna 'license' é irrelevante para a nossa pesquisa, ela também será descartada.</p>\n",
        "\n",
        "<p align=\"justify\">Já os valores ausentes das variáveis 'reviews_per_month' e 'last_review' serão substituídos pela mediana, usando o método \"fillna( )\" do dataframe.</p>\n",
        "\n",
        "<p align=\"justify\">Como o tipo de dados da variável 'last_review' é `object`, vamos convertê-lo para o formato `datetime`, usando a função \"pd.to_datetime( )\" e, posteriormente, seus registros serão substituídos pelo cálculo da mediana.</p>\n",
        "\n",
        "<p align=\"justify\">Utilizando novamente o comando \"isnull( ).sum( )\", é possível verificarmos que todos os atributos que continham valores nulos, ausentes ou outliers foram devidamente tratados, conforme apresentado abaixo:</p>\n"
      ],
      "metadata": {
        "id": "JFlVYkw-eSX1"
      }
    },
    {
      "cell_type": "code",
      "source": [
        "# Atributos, após a limpeza dos dados e exclusão dos outliers do dataset \n",
        "df_clean.isnull().sum()"
      ],
      "metadata": {
        "colab": {
          "base_uri": "https://localhost:8080/"
        },
        "id": "zEMjnu7BYhKv",
        "outputId": "d48c42a1-c40a-4442-d67c-fd6b8b5aa34b"
      },
      "execution_count": null,
      "outputs": [
        {
          "output_type": "execute_result",
          "data": {
            "text/plain": [
              "id                                0\n",
              "name                              2\n",
              "host_id                           0\n",
              "host_name                         2\n",
              "neighbourhood_group               0\n",
              "neighbourhood                     0\n",
              "latitude                          0\n",
              "longitude                         0\n",
              "room_type                         0\n",
              "price                             0\n",
              "minimum_nights                    0\n",
              "number_of_reviews                 0\n",
              "last_review                       0\n",
              "reviews_per_month                 0\n",
              "calculated_host_listings_count    0\n",
              "availability_365                  0\n",
              "number_of_reviews_ltm             0\n",
              "dtype: int64"
            ]
          },
          "metadata": {},
          "execution_count": 256
        }
      ]
    },
    {
      "cell_type": "markdown",
      "source": [
        "<p align=\"justify\">A partir dos dados já tratados, podemos agora visualizar os novos histogramas e identificá-los com valores mais concentrados em um intervalo menor, e possivelmente com uma distribuição mais simétrica, ou seja, uma distribuição normal ou gaussiana. Nesse tipo de distribuição, a maioria dos dados se concentra em torno da média, formando um pico central simétrico e os dados se espalham igualmente para ambos os lados do pico, formando uma curva em forma de sino, conforme abaixo:</p>"
      ],
      "metadata": {
        "id": "97ImWXdTI-Le"
      }
    },
    {
      "cell_type": "code",
      "source": [
        "# plotar o novo histograma para as variáveis numéricas, após a limpeza dos dados com a exclusão dos outliers\n",
        "df_clean.hist(bins=17, figsize=(17,12), color='purple');"
      ],
      "metadata": {
        "colab": {
          "base_uri": "https://localhost:8080/",
          "height": 716
        },
        "id": "ZfkQpDZjbzqB",
        "outputId": "8c04c02e-0d10-441c-afe0-10188733eae0"
      },
      "execution_count": null,
      "outputs": [
        {
          "output_type": "display_data",
          "data": {
            "text/plain": [
              "<Figure size 1224x864 with 12 Axes>"
            ],
            "image/png": "[encoded data removed]"
          },
          "metadata": {
            "needs_background": "light"
          }
        }
      ]
    },
    {
      "cell_type": "markdown",
      "source": [
        "## **Análise Descritiva dos Dados**"
      ],
      "metadata": {
        "id": "aCtVPlTy0Am9"
      }
    },
    {
      "cell_type": "markdown",
      "source": [
        "<p align=\"justify\">A análise descritiva de dados é uma das etapas fundamentais na Ciência de Dados. Ela consiste em explorar e resumir dados utilizando medidas estatísticas e ferramentas de visualização de dados para descrever e compreender as características e padrões presentes nos dados.</p>\n",
        "\n",
        "<p align=\"justify\">Essa etapa é importante porque permite identificar padrões, tendências, discrepâncias e possíveis relações entre as variáveis de interesse. A partir da análise descritiva, é possível ter uma visão geral dos dados e compreender melhor as informações que eles contêm.</p>\n",
        "\n",
        "<p align=\"justify\">Algumas das técnicas utilizadas na análise descritiva incluem medidas de centralidade e de dispersão, como média, mediana, moda, desvio padrão, entre outras. Essas técnicas são aplicadas tanto a dados numéricos quanto categóricos e podem ser utilizadas para gerar insights, identificar outliers e definir a estratégia de análise de dados mais adequada para o problema em questão.</p>"
      ],
      "metadata": {
        "id": "t0ZoKuClL3iS"
      }
    },
    {
      "cell_type": "code",
      "source": [
        "df_clean.info()"
      ],
      "metadata": {
        "colab": {
          "base_uri": "https://localhost:8080/"
        },
        "id": "bqWWL_hl4DTH",
        "outputId": "7a781700-8e21-461c-bc86-ae15d2198420"
      },
      "execution_count": null,
      "outputs": [
        {
          "output_type": "stream",
          "name": "stdout",
          "text": [
            "<class 'pandas.core.frame.DataFrame'>\n",
            "Int64Index: 34909 entries, 0 to 40437\n",
            "Data columns (total 17 columns):\n",
            " #   Column                          Non-Null Count  Dtype         \n",
            "---  ------                          --------------  -----         \n",
            " 0   id                              34909 non-null  int64         \n",
            " 1   name                            34907 non-null  object        \n",
            " 2   host_id                         34909 non-null  int64         \n",
            " 3   host_name                       34907 non-null  object        \n",
            " 4   neighbourhood_group             34909 non-null  object        \n",
            " 5   neighbourhood                   34909 non-null  object        \n",
            " 6   latitude                        34909 non-null  float64       \n",
            " 7   longitude                       34909 non-null  float64       \n",
            " 8   room_type                       34909 non-null  object        \n",
            " 9   price                           34909 non-null  int64         \n",
            " 10  minimum_nights                  34909 non-null  int64         \n",
            " 11  number_of_reviews               34909 non-null  int64         \n",
            " 12  last_review                     34909 non-null  datetime64[ns]\n",
            " 13  reviews_per_month               34909 non-null  float64       \n",
            " 14  calculated_host_listings_count  34909 non-null  int64         \n",
            " 15  availability_365                34909 non-null  int64         \n",
            " 16  number_of_reviews_ltm           34909 non-null  int64         \n",
            "dtypes: datetime64[ns](1), float64(3), int64(8), object(5)\n",
            "memory usage: 4.8+ MB\n"
          ]
        }
      ]
    },
    {
      "cell_type": "markdown",
      "source": [
        "<p align=\"justify\">Com o intuito de explorarmos novos insights sobre os dados já tratados, vamos utilizar novamente o método describe( ).</p>"
      ],
      "metadata": {
        "id": "VGKXameQMm6o"
      }
    },
    {
      "cell_type": "code",
      "source": [
        "# ver o novo resumo estatístico das variáveis numéricas\n",
        "df_clean[['price', 'minimum_nights', 'number_of_reviews', 'availability_365',\n",
        "    'reviews_per_month', 'calculated_host_listings_count']].describe()"
      ],
      "metadata": {
        "colab": {
          "base_uri": "https://localhost:8080/",
          "height": 300
        },
        "id": "BTuFq9ir49OR",
        "outputId": "6e3ee7a8-2d63-4dfd-a0ba-082e545c3d2e"
      },
      "execution_count": null,
      "outputs": [
        {
          "output_type": "execute_result",
          "data": {
            "text/plain": [
              "              price  minimum_nights  number_of_reviews  availability_365  \\\n",
              "count  34909.000000    34909.000000       34909.000000      34909.000000   \n",
              "mean     149.436478       17.344954          30.479217        195.495288   \n",
              "std       93.380700       14.233776          61.043000        143.471270   \n",
              "min        0.000000        1.000000           0.000000          0.000000   \n",
              "25%       80.000000        2.000000           0.000000         56.000000   \n",
              "50%      125.000000       30.000000           5.000000        180.000000   \n",
              "75%      197.000000       30.000000          30.000000        348.000000   \n",
              "max      460.000000       63.000000         698.000000        365.000000   \n",
              "\n",
              "       reviews_per_month  calculated_host_listings_count  \n",
              "count       34909.000000                    34909.000000  \n",
              "mean            1.160174                       36.121315  \n",
              "std             1.189257                      122.764781  \n",
              "min             0.010000                        1.000000  \n",
              "25%             0.340000                        1.000000  \n",
              "50%             0.750000                        2.000000  \n",
              "75%             1.500000                       10.000000  \n",
              "max             5.260000                      693.000000  "
            ],
            "text/html": [
              "\n",
              "  <div id=\"df-b97ebdaa-e969-4944-98bf-2d846760fa86\">\n",
              "    <div class=\"colab-df-container\">\n",
              "      <div>\n",
              "<style scoped>\n",
              "    .dataframe tbody tr th:only-of-type {\n",
              "        vertical-align: middle;\n",
              "    }\n",
              "\n",
              "    .dataframe tbody tr th {\n",
              "        vertical-align: top;\n",
              "    }\n",
              "\n",
              "    .dataframe thead th {\n",
              "        text-align: right;\n",
              "    }\n",
              "</style>\n",
              "<table border=\"1\" class=\"dataframe\">\n",
              "  <thead>\n",
              "    <tr style=\"text-align: right;\">\n",
              "      <th></th>\n",
              "      <th>price</th>\n",
              "      <th>minimum_nights</th>\n",
              "      <th>number_of_reviews</th>\n",
              "      <th>availability_365</th>\n",
              "      <th>reviews_per_month</th>\n",
              "      <th>calculated_host_listings_count</th>\n",
              "    </tr>\n",
              "  </thead>\n",
              "  <tbody>\n",
              "    <tr>\n",
              "      <th>count</th>\n",
              "      <td>34909.000000</td>\n",
              "      <td>34909.000000</td>\n",
              "      <td>34909.000000</td>\n",
              "      <td>34909.000000</td>\n",
              "      <td>34909.000000</td>\n",
              "      <td>34909.000000</td>\n",
              "    </tr>\n",
              "    <tr>\n",
              "      <th>mean</th>\n",
              "      <td>149.436478</td>\n",
              "      <td>17.344954</td>\n",
              "      <td>30.479217</td>\n",
              "      <td>195.495288</td>\n",
              "      <td>1.160174</td>\n",
              "      <td>36.121315</td>\n",
              "    </tr>\n",
              "    <tr>\n",
              "      <th>std</th>\n",
              "      <td>93.380700</td>\n",
              "      <td>14.233776</td>\n",
              "      <td>61.043000</td>\n",
              "      <td>143.471270</td>\n",
              "      <td>1.189257</td>\n",
              "      <td>122.764781</td>\n",
              "    </tr>\n",
              "    <tr>\n",
              "      <th>min</th>\n",
              "      <td>0.000000</td>\n",
              "      <td>1.000000</td>\n",
              "      <td>0.000000</td>\n",
              "      <td>0.000000</td>\n",
              "      <td>0.010000</td>\n",
              "      <td>1.000000</td>\n",
              "    </tr>\n",
              "    <tr>\n",
              "      <th>25%</th>\n",
              "      <td>80.000000</td>\n",
              "      <td>2.000000</td>\n",
              "      <td>0.000000</td>\n",
              "      <td>56.000000</td>\n",
              "      <td>0.340000</td>\n",
              "      <td>1.000000</td>\n",
              "    </tr>\n",
              "    <tr>\n",
              "      <th>50%</th>\n",
              "      <td>125.000000</td>\n",
              "      <td>30.000000</td>\n",
              "      <td>5.000000</td>\n",
              "      <td>180.000000</td>\n",
              "      <td>0.750000</td>\n",
              "      <td>2.000000</td>\n",
              "    </tr>\n",
              "    <tr>\n",
              "      <th>75%</th>\n",
              "      <td>197.000000</td>\n",
              "      <td>30.000000</td>\n",
              "      <td>30.000000</td>\n",
              "      <td>348.000000</td>\n",
              "      <td>1.500000</td>\n",
              "      <td>10.000000</td>\n",
              "    </tr>\n",
              "    <tr>\n",
              "      <th>max</th>\n",
              "      <td>460.000000</td>\n",
              "      <td>63.000000</td>\n",
              "      <td>698.000000</td>\n",
              "      <td>365.000000</td>\n",
              "      <td>5.260000</td>\n",
              "      <td>693.000000</td>\n",
              "    </tr>\n",
              "  </tbody>\n",
              "</table>\n",
              "</div>\n",
              "      <button class=\"colab-df-convert\" onclick=\"convertToInteractive('df-b97ebdaa-e969-4944-98bf-2d846760fa86')\"\n",
              "              title=\"Convert this dataframe to an interactive table.\"\n",
              "              style=\"display:none;\">\n",
              "        \n",
              "  <svg xmlns=\"http://www.w3.org/2000/svg\" height=\"24px\"viewBox=\"0 0 24 24\"\n",
              "       width=\"24px\">\n",
              "    <path d=\"M0 0h24v24H0V0z\" fill=\"none\"/>\n",
              "    <path d=\"M18.56 5.44l.94 2.06.94-2.06 2.06-.94-2.06-.94-.94-2.06-.94 2.06-2.06.94zm-11 1L8.5 8.5l.94-2.06 2.06-.94-2.06-.94L8.5 2.5l-.94 2.06-2.06.94zm10 10l.94 2.06.94-2.06 2.06-.94-2.06-.94-.94-2.06-.94 2.06-2.06.94z\"/><path d=\"M17.41 7.96l-1.37-1.37c-.4-.4-.92-.59-1.43-.59-.52 0-1.04.2-1.43.59L10.3 9.45l-7.72 7.72c-.78.78-.78 2.05 0 2.83L4 21.41c.39.39.9.59 1.41.59.51 0 1.02-.2 1.41-.59l7.78-7.78 2.81-2.81c.8-.78.8-2.07 0-2.86zM5.41 20L4 18.59l7.72-7.72 1.47 1.35L5.41 20z\"/>\n",
              "  </svg>\n",
              "      </button>\n",
              "      \n",
              "  <style>\n",
              "    .colab-df-container {\n",
              "      display:flex;\n",
              "      flex-wrap:wrap;\n",
              "      gap: 12px;\n",
              "    }\n",
              "\n",
              "    .colab-df-convert {\n",
              "      background-color: #E8F0FE;\n",
              "      border: none;\n",
              "      border-radius: 50%;\n",
              "      cursor: pointer;\n",
              "      display: none;\n",
              "      fill: #1967D2;\n",
              "      height: 32px;\n",
              "      padding: 0 0 0 0;\n",
              "      width: 32px;\n",
              "    }\n",
              "\n",
              "    .colab-df-convert:hover {\n",
              "      background-color: #E2EBFA;\n",
              "      box-shadow: 0px 1px 2px rgba(60, 64, 67, 0.3), 0px 1px 3px 1px rgba(60, 64, 67, 0.15);\n",
              "      fill: #174EA6;\n",
              "    }\n",
              "\n",
              "    [theme=dark] .colab-df-convert {\n",
              "      background-color: #3B4455;\n",
              "      fill: #D2E3FC;\n",
              "    }\n",
              "\n",
              "    [theme=dark] .colab-df-convert:hover {\n",
              "      background-color: #434B5C;\n",
              "      box-shadow: 0px 1px 3px 1px rgba(0, 0, 0, 0.15);\n",
              "      filter: drop-shadow(0px 1px 2px rgba(0, 0, 0, 0.3));\n",
              "      fill: #FFFFFF;\n",
              "    }\n",
              "  </style>\n",
              "\n",
              "      <script>\n",
              "        const buttonEl =\n",
              "          document.querySelector('#df-b97ebdaa-e969-4944-98bf-2d846760fa86 button.colab-df-convert');\n",
              "        buttonEl.style.display =\n",
              "          google.colab.kernel.accessAllowed ? 'block' : 'none';\n",
              "\n",
              "        async function convertToInteractive(key) {\n",
              "          const element = document.querySelector('#df-b97ebdaa-e969-4944-98bf-2d846760fa86');\n",
              "          const dataTable =\n",
              "            await google.colab.kernel.invokeFunction('convertToInteractive',\n",
              "                                                     [key], {});\n",
              "          if (!dataTable) return;\n",
              "\n",
              "          const docLinkHtml = 'Like what you see? Visit the ' +\n",
              "            '<a target=\"_blank\" href=https://colab.research.google.com/notebooks/data_table.ipynb>data table notebook</a>'\n",
              "            + ' to learn more about interactive tables.';\n",
              "          element.innerHTML = '';\n",
              "          dataTable['output_type'] = 'display_data';\n",
              "          await google.colab.output.renderOutput(dataTable, element);\n",
              "          const docLink = document.createElement('div');\n",
              "          docLink.innerHTML = docLinkHtml;\n",
              "          element.appendChild(docLink);\n",
              "        }\n",
              "      </script>\n",
              "    </div>\n",
              "  </div>\n",
              "  "
            ]
          },
          "metadata": {},
          "execution_count": 35
        }
      ]
    },
    {
      "cell_type": "markdown",
      "source": [
        "<p align=\"justify\">Com base nos valores máximos e mínimos de cada coluna no resumo estatístico acima, podemos confirmar possíveis outliers no conjunto de dados:</p>\n",
        "\n",
        "* **Variável price**\n",
        "><p align='justify'>O preço médio da diária em Los Angeles é de US$ 149.44, com um desvio padrão de 93.38. O menor valor encontrado é 0,00, enquanto que o maior preço foi de U$$ 460.00. A mediana é 125 dólares</p>\n",
        "\n",
        "* **Variável minimum_nights**\n",
        "><p align=\"justify\"> A média de noites mínimas para reserva é de 17.34, com desvio padrão de 14.23. O menor valor encontrado foi 1 noite e o maior valor foi de 63 noites.</p>\n",
        "\n",
        "* **Variável number_of_reviews**\n",
        "><p align=\"justify\">O número médio de avaliações por anúncio é de 30.47, com desvio padrão de 61.04. O menor número de avaliações encontrado foi de 0 e o máximo foi de 698 avaliações.</p>\n",
        "\n",
        "* **Variável availability_365**\n",
        "><p align=\"justify\">A média de disponibilidade durante o ano é de 195.49 dias, com um desvio padrão de 143.47. O menor valor encontrado foi de 0 dias, enquanto que o maior foi de 365 dias.</p>\n",
        "\n",
        "* **Variável reviews_per_month**\n",
        "><p align=\"justify\">A média de avaliações por mês é de 1.16, com desvio padrão de 1.18. O menor valor é de 0.01 e o maior valor é de 5.26.</p>\n",
        "\n",
        "* **Variável calculated_host_listings_count**\n",
        "><p align=\"justify\">O número médio de anúncios do mesmo anfitrião é de 36.12, com desvio padrão de 122.76. O menor valor encontrado foi de 1 propriedade, enquanto que o valor máximo foi de 693 propriedades anunciadas.</p>"
      ],
      "metadata": {
        "id": "Vws4vdhAN5mM"
      }
    },
    {
      "cell_type": "markdown",
      "source": [
        "<p align=\"justify\">Para fins didáticos, vamos apresentar as linhas de código e outputs dos principais cálculos da análise estatística descritiva, porém é mais eficiente e rápido, usarmos o método describe( ), que já apresenta um resumo estatístico das variáveis numéricas.</p>"
      ],
      "metadata": {
        "id": "YCTBwIORPSOt"
      }
    },
    {
      "cell_type": "code",
      "source": [
        "# Calcular a média dos preços dos aluguéis\n",
        "preco_medio = df_clean[\"price\"].mean()\n",
        "print(f\"A média dos preços dos aluguéis é US$ {preco_medio:.2f}\")"
      ],
      "metadata": {
        "colab": {
          "base_uri": "https://localhost:8080/"
        },
        "id": "fiVzdLxLuuHo",
        "outputId": "e50ceb85-062f-476d-ae79-6f5aa759b383"
      },
      "execution_count": null,
      "outputs": [
        {
          "output_type": "stream",
          "name": "stdout",
          "text": [
            "A média dos preços dos aluguéis é US$ 149.44\n"
          ]
        }
      ]
    },
    {
      "cell_type": "code",
      "source": [
        "# Calcular a mediana dos preços das hospedagens\n",
        "mediana = df_clean[\"price\"].median()\n",
        "print(f\"A mediana dos preços dos aluguéis é US$ {mediana:.2f}\")\n"
      ],
      "metadata": {
        "colab": {
          "base_uri": "https://localhost:8080/"
        },
        "id": "rr08ofeU5Tjg",
        "outputId": "f2cedd76-6847-430b-e45f-65056e92f97c"
      },
      "execution_count": null,
      "outputs": [
        {
          "output_type": "stream",
          "name": "stdout",
          "text": [
            "A mediana dos preços dos aluguéis é US$ 125.00\n"
          ]
        }
      ]
    },
    {
      "cell_type": "code",
      "source": [
        "# Calcular o Desvio padrão dos preços das hospedagens\n",
        "desvio_padrao = df_clean[\"price\"].std()\n",
        "print(f'Desvio padrão do preço das hospedagens é US$ {desvio_padrao:.2f}')"
      ],
      "metadata": {
        "colab": {
          "base_uri": "https://localhost:8080/"
        },
        "id": "6rvcLDYy6l5q",
        "outputId": "deb56b4f-b94d-4e54-81e9-38903b20b828"
      },
      "execution_count": null,
      "outputs": [
        {
          "output_type": "stream",
          "name": "stdout",
          "text": [
            "Desvio padrão do preço das hospedagens é US$ 93.38\n"
          ]
        }
      ]
    },
    {
      "cell_type": "code",
      "source": [
        "# Calcular o preço máximo dos aluguéis\n",
        "preco_maximo = df_clean[\"price\"].max()\n",
        "print(f'O preço máximo dos aluguéis é US$ {preco_maximo:.2f}')"
      ],
      "metadata": {
        "colab": {
          "base_uri": "https://localhost:8080/"
        },
        "id": "80uSmVlz64Y1",
        "outputId": "fbcf9f86-df3b-4820-ed03-f7c82ee36794"
      },
      "execution_count": null,
      "outputs": [
        {
          "output_type": "stream",
          "name": "stdout",
          "text": [
            "O preço máximo dos aluguéis é US$ 460.00\n"
          ]
        }
      ]
    },
    {
      "cell_type": "code",
      "source": [
        "# Calcular o preço mínimo dos aluguéis\n",
        "preco_maximo = df_clean[\"price\"].min()\n",
        "print(f'O preço mínimo dos aluguéis é US$ {preco_maximo:.2f}')"
      ],
      "metadata": {
        "colab": {
          "base_uri": "https://localhost:8080/"
        },
        "id": "fY5M_pQd7mGF",
        "outputId": "959625b3-03bd-4c8c-9935-2951b728819e"
      },
      "execution_count": null,
      "outputs": [
        {
          "output_type": "stream",
          "name": "stdout",
          "text": [
            "O preço mínimo dos aluguéis é US$ 0.00\n"
          ]
        }
      ]
    },
    {
      "cell_type": "markdown",
      "metadata": {
        "id": "IXn2oIo5qx-w"
      },
      "source": [
        "### **Q5. Qual a correlação existente entre as variáveis**\n",
        "\n",
        "<p align=\"justify\">A matriz de correlação é uma tabela que mostra como as diferentes variáveis se relacionam entre si. Cada célula na tabela contém um valor entre -1 e 1 que indica a força e a direção da correlação entre duas variáveis. Os valores próximos de 1 indicam uma correlação positiva forte, os valores próximos de -1 indicam uma correlação negativa forte, e os valores próximos de 0 indicam uma correlação fraca ou inexistente.\n",
        "\n",
        "Para identificar as correlações existentes entre as variáveis de interesse, vou:\n",
        "\n",
        "* Criar uma matriz de correlação\n",
        "* Gerar um *heatmap* a partir dessa matriz, usando a biblioteca `seaborn`"
      ]
    },
    {
      "cell_type": "code",
      "metadata": {
        "id": "x2ayzBajqxyd",
        "colab": {
          "base_uri": "https://localhost:8080/",
          "height": 237
        },
        "outputId": "ab12f45f-77a5-4fad-c3f6-2cab50aa2d57"
      },
      "source": [
        "# criar uma matriz de correlação\n",
        "corr = df_clean[['price', 'minimum_nights', 'number_of_reviews', 'availability_365',\n",
        "    'reviews_per_month', 'calculated_host_listings_count']].corr()\n",
        "\n",
        "# mostrar a matriz de correlação\n",
        "display(corr)"
      ],
      "execution_count": null,
      "outputs": [
        {
          "output_type": "display_data",
          "data": {
            "text/plain": [
              "                                   price  minimum_nights  number_of_reviews  \\\n",
              "price                           1.000000       -0.159054           0.006262   \n",
              "minimum_nights                 -0.159054        1.000000          -0.173187   \n",
              "number_of_reviews               0.006262       -0.173187           1.000000   \n",
              "availability_365                0.056883        0.014080          -0.035522   \n",
              "reviews_per_month               0.113473       -0.449969           0.578009   \n",
              "calculated_host_listings_count -0.041292        0.208200          -0.124604   \n",
              "\n",
              "                                availability_365  reviews_per_month  \\\n",
              "price                                   0.056883           0.113473   \n",
              "minimum_nights                          0.014080          -0.449969   \n",
              "number_of_reviews                      -0.035522           0.578009   \n",
              "availability_365                        1.000000           0.051124   \n",
              "reviews_per_month                       0.051124           1.000000   \n",
              "calculated_host_listings_count          0.216478          -0.115397   \n",
              "\n",
              "                                calculated_host_listings_count  \n",
              "price                                                -0.041292  \n",
              "minimum_nights                                        0.208200  \n",
              "number_of_reviews                                    -0.124604  \n",
              "availability_365                                      0.216478  \n",
              "reviews_per_month                                    -0.115397  \n",
              "calculated_host_listings_count                        1.000000  "
            ],
            "text/html": [
              "\n",
              "  <div id=\"df-729bdc6c-3b92-4fa8-9c2a-56ddb8f54279\">\n",
              "    <div class=\"colab-df-container\">\n",
              "      <div>\n",
              "<style scoped>\n",
              "    .dataframe tbody tr th:only-of-type {\n",
              "        vertical-align: middle;\n",
              "    }\n",
              "\n",
              "    .dataframe tbody tr th {\n",
              "        vertical-align: top;\n",
              "    }\n",
              "\n",
              "    .dataframe thead th {\n",
              "        text-align: right;\n",
              "    }\n",
              "</style>\n",
              "<table border=\"1\" class=\"dataframe\">\n",
              "  <thead>\n",
              "    <tr style=\"text-align: right;\">\n",
              "      <th></th>\n",
              "      <th>price</th>\n",
              "      <th>minimum_nights</th>\n",
              "      <th>number_of_reviews</th>\n",
              "      <th>availability_365</th>\n",
              "      <th>reviews_per_month</th>\n",
              "      <th>calculated_host_listings_count</th>\n",
              "    </tr>\n",
              "  </thead>\n",
              "  <tbody>\n",
              "    <tr>\n",
              "      <th>price</th>\n",
              "      <td>1.000000</td>\n",
              "      <td>-0.159054</td>\n",
              "      <td>0.006262</td>\n",
              "      <td>0.056883</td>\n",
              "      <td>0.113473</td>\n",
              "      <td>-0.041292</td>\n",
              "    </tr>\n",
              "    <tr>\n",
              "      <th>minimum_nights</th>\n",
              "      <td>-0.159054</td>\n",
              "      <td>1.000000</td>\n",
              "      <td>-0.173187</td>\n",
              "      <td>0.014080</td>\n",
              "      <td>-0.449969</td>\n",
              "      <td>0.208200</td>\n",
              "    </tr>\n",
              "    <tr>\n",
              "      <th>number_of_reviews</th>\n",
              "      <td>0.006262</td>\n",
              "      <td>-0.173187</td>\n",
              "      <td>1.000000</td>\n",
              "      <td>-0.035522</td>\n",
              "      <td>0.578009</td>\n",
              "      <td>-0.124604</td>\n",
              "    </tr>\n",
              "    <tr>\n",
              "      <th>availability_365</th>\n",
              "      <td>0.056883</td>\n",
              "      <td>0.014080</td>\n",
              "      <td>-0.035522</td>\n",
              "      <td>1.000000</td>\n",
              "      <td>0.051124</td>\n",
              "      <td>0.216478</td>\n",
              "    </tr>\n",
              "    <tr>\n",
              "      <th>reviews_per_month</th>\n",
              "      <td>0.113473</td>\n",
              "      <td>-0.449969</td>\n",
              "      <td>0.578009</td>\n",
              "      <td>0.051124</td>\n",
              "      <td>1.000000</td>\n",
              "      <td>-0.115397</td>\n",
              "    </tr>\n",
              "    <tr>\n",
              "      <th>calculated_host_listings_count</th>\n",
              "      <td>-0.041292</td>\n",
              "      <td>0.208200</td>\n",
              "      <td>-0.124604</td>\n",
              "      <td>0.216478</td>\n",
              "      <td>-0.115397</td>\n",
              "      <td>1.000000</td>\n",
              "    </tr>\n",
              "  </tbody>\n",
              "</table>\n",
              "</div>\n",
              "      <button class=\"colab-df-convert\" onclick=\"convertToInteractive('df-729bdc6c-3b92-4fa8-9c2a-56ddb8f54279')\"\n",
              "              title=\"Convert this dataframe to an interactive table.\"\n",
              "              style=\"display:none;\">\n",
              "        \n",
              "  <svg xmlns=\"http://www.w3.org/2000/svg\" height=\"24px\"viewBox=\"0 0 24 24\"\n",
              "       width=\"24px\">\n",
              "    <path d=\"M0 0h24v24H0V0z\" fill=\"none\"/>\n",
              "    <path d=\"M18.56 5.44l.94 2.06.94-2.06 2.06-.94-2.06-.94-.94-2.06-.94 2.06-2.06.94zm-11 1L8.5 8.5l.94-2.06 2.06-.94-2.06-.94L8.5 2.5l-.94 2.06-2.06.94zm10 10l.94 2.06.94-2.06 2.06-.94-2.06-.94-.94-2.06-.94 2.06-2.06.94z\"/><path d=\"M17.41 7.96l-1.37-1.37c-.4-.4-.92-.59-1.43-.59-.52 0-1.04.2-1.43.59L10.3 9.45l-7.72 7.72c-.78.78-.78 2.05 0 2.83L4 21.41c.39.39.9.59 1.41.59.51 0 1.02-.2 1.41-.59l7.78-7.78 2.81-2.81c.8-.78.8-2.07 0-2.86zM5.41 20L4 18.59l7.72-7.72 1.47 1.35L5.41 20z\"/>\n",
              "  </svg>\n",
              "      </button>\n",
              "      \n",
              "  <style>\n",
              "    .colab-df-container {\n",
              "      display:flex;\n",
              "      flex-wrap:wrap;\n",
              "      gap: 12px;\n",
              "    }\n",
              "\n",
              "    .colab-df-convert {\n",
              "      background-color: #E8F0FE;\n",
              "      border: none;\n",
              "      border-radius: 50%;\n",
              "      cursor: pointer;\n",
              "      display: none;\n",
              "      fill: #1967D2;\n",
              "      height: 32px;\n",
              "      padding: 0 0 0 0;\n",
              "      width: 32px;\n",
              "    }\n",
              "\n",
              "    .colab-df-convert:hover {\n",
              "      background-color: #E2EBFA;\n",
              "      box-shadow: 0px 1px 2px rgba(60, 64, 67, 0.3), 0px 1px 3px 1px rgba(60, 64, 67, 0.15);\n",
              "      fill: #174EA6;\n",
              "    }\n",
              "\n",
              "    [theme=dark] .colab-df-convert {\n",
              "      background-color: #3B4455;\n",
              "      fill: #D2E3FC;\n",
              "    }\n",
              "\n",
              "    [theme=dark] .colab-df-convert:hover {\n",
              "      background-color: #434B5C;\n",
              "      box-shadow: 0px 1px 3px 1px rgba(0, 0, 0, 0.15);\n",
              "      filter: drop-shadow(0px 1px 2px rgba(0, 0, 0, 0.3));\n",
              "      fill: #FFFFFF;\n",
              "    }\n",
              "  </style>\n",
              "\n",
              "      <script>\n",
              "        const buttonEl =\n",
              "          document.querySelector('#df-729bdc6c-3b92-4fa8-9c2a-56ddb8f54279 button.colab-df-convert');\n",
              "        buttonEl.style.display =\n",
              "          google.colab.kernel.accessAllowed ? 'block' : 'none';\n",
              "\n",
              "        async function convertToInteractive(key) {\n",
              "          const element = document.querySelector('#df-729bdc6c-3b92-4fa8-9c2a-56ddb8f54279');\n",
              "          const dataTable =\n",
              "            await google.colab.kernel.invokeFunction('convertToInteractive',\n",
              "                                                     [key], {});\n",
              "          if (!dataTable) return;\n",
              "\n",
              "          const docLinkHtml = 'Like what you see? Visit the ' +\n",
              "            '<a target=\"_blank\" href=https://colab.research.google.com/notebooks/data_table.ipynb>data table notebook</a>'\n",
              "            + ' to learn more about interactive tables.';\n",
              "          element.innerHTML = '';\n",
              "          dataTable['output_type'] = 'display_data';\n",
              "          await google.colab.output.renderOutput(dataTable, element);\n",
              "          const docLink = document.createElement('div');\n",
              "          docLink.innerHTML = docLinkHtml;\n",
              "          element.appendChild(docLink);\n",
              "        }\n",
              "      </script>\n",
              "    </div>\n",
              "  </div>\n",
              "  "
            ]
          },
          "metadata": {}
        }
      ]
    },
    {
      "cell_type": "markdown",
      "source": [
        "<p align=\"justify\">Analisando a matriz de correlação gerada pelo código acima, podemos inferir as seguintes conclusões:</p>\n",
        "\n",
        "><p align=\"justify\">A variável 'price' tem correlação negativa fraca com 'minimum_nights' e 'calculated_host_listings_count', porém uma correlação positiva fraca com 'number_of_reviews'.</p>\n",
        "\n",
        "><p align=\"justify\">A variável 'minimum_nights' tem uma correlação negativa moderada com 'reviews_per_month' e uma correlação positiva fraca com 'availability_365' e 'calculated_host_listings_count'.</p>\n",
        "\n",
        "><p align=\"justify\">Já a variável 'number_of_reviews' tem correlação positiva moderada com 'reviews_per_month' e correlação negativa fraca com 'minimum_nights', 'availability_365' e 'calculated_host_listings_count'.\n"
      ],
      "metadata": {
        "id": "ogvyMMFCYV0E"
      }
    },
    {
      "cell_type": "code",
      "metadata": {
        "id": "91UujDr6ueqE",
        "colab": {
          "base_uri": "https://localhost:8080/",
          "height": 520
        },
        "outputId": "8a8254fb-3571-4394-ea18-7476615c6791"
      },
      "source": [
        "# plotar um heatmap a partir das correlações\n",
        "fig, ax = plt.subplots(figsize=(8,6))\n",
        "sns.heatmap(corr, cmap='RdBu', fmt='.2f', square=True, linecolor='white', annot=True, linewidths=1, vmin=-1, ax=ax);"
      ],
      "execution_count": null,
      "outputs": [
        {
          "output_type": "display_data",
          "data": {
            "text/plain": [
              "<Figure size 576x432 with 2 Axes>"
            ],
            "image/png": "[encoded data removed]"
          },
          "metadata": {
            "needs_background": "light"
          }
        }
      ]
    },
    {
      "cell_type": "markdown",
      "source": [
        "<p align=\"justify\">Observando o heatmap gerado pelo código acima, podemos visualizar essas correlações de forma mais clara, uma vez que as células com cores mais próximas do azul escuro, indicam correlações positivas mais fortes, enquanto que as cores próximas ao vermelho escuro indicam correlações negativas mais fortes e as cores próximas do branco, correlações neutras ou inexistentes.</p><br>"
      ],
      "metadata": {
        "id": "-PyNaJREdxQC"
      }
    },
    {
      "cell_type": "markdown",
      "metadata": {
        "id": "7b6RMWpuHKN-"
      },
      "source": [
        "### **Q6. Qual o tipo de imóvel mais alugado no Airbnb?**\n",
        "A coluna da variável `room_type` indica o tipo de locação que está anunciada no Airbnb. Se você já alugou no site, sabe que existem opções de apartamentos,casas inteiras, apenas o aluguel de um quarto ou mesmo dividir o quarto com outras pessoas.\n",
        "\n",
        "Vamos contar a quantidade de ocorrências de cada tipo de aluguel, usando o método `value_counts()`."
      ]
    },
    {
      "cell_type": "code",
      "metadata": {
        "id": "ueLPNWvPHgfB",
        "colab": {
          "base_uri": "https://localhost:8080/",
          "height": 364
        },
        "outputId": "552f5aff-5167-4ee7-97d1-44c50970c924"
      },
      "source": [
        "# exibindo figura Waffles com a quantidade de cada tipo de imóvel\n",
        "\n",
        "roomT = dict(df_clean.room_type.value_counts())\n",
        "\n",
        "fig = plt.figure(\n",
        "    FigureClass=Waffle,\n",
        "    rows=10,\n",
        "    columns=25,\n",
        "    figsize=(11,10),\n",
        "    colors=(\"orange\", \"gray\", \"green\", \"red\"),            \n",
        "    values = roomT, icons=\"hotel\", icon_size=21,\n",
        "    legend={'loc': 'upper left', 'bbox_to_anchor': (1,1)},\n",
        "    icon_legend=True\n",
        ")\n",
        "\n",
        "fig.set_tight_layout(False)\n",
        "plt.show();\n",
        "print(df_clean.room_type.value_counts())"
      ],
      "execution_count": null,
      "outputs": [
        {
          "output_type": "display_data",
          "data": {
            "text/plain": [
              "<Waffle size 792x720 with 1 Axes>"
            ],
            "image/png": "[encoded data removed]"
          },
          "metadata": {
            "needs_background": "light"
          }
        },
        {
          "output_type": "stream",
          "name": "stdout",
          "text": [
            "Entire home/apt    23480\n",
            "Private room       10600\n",
            "Shared room          753\n",
            "Hotel room            76\n",
            "Name: room_type, dtype: int64\n"
          ]
        }
      ]
    },
    {
      "cell_type": "code",
      "metadata": {
        "id": "EvwoO-XAHhIm",
        "colab": {
          "base_uri": "https://localhost:8080/"
        },
        "outputId": "354b45d6-0f91-41ea-e2f9-c4668e0a605c"
      },
      "source": [
        "# mostrar a porcentagem de cada tipo de imóvel disponível\n",
        "df_clean.room_type.value_counts() / df_clean.shape[0]"
      ],
      "execution_count": null,
      "outputs": [
        {
          "output_type": "execute_result",
          "data": {
            "text/plain": [
              "Entire home/apt    0.672606\n",
              "Private room       0.303647\n",
              "Shared room        0.021570\n",
              "Hotel room         0.002177\n",
              "Name: room_type, dtype: float64"
            ]
          },
          "metadata": {},
          "execution_count": 47
        }
      ]
    },
    {
      "cell_type": "markdown",
      "source": [
        "<p align=\"justify\">A plataforma disponibiliza 4 tipos de acomodações: Entire home/apt (67,26%), Private room (30,36%), Shared room (2,16%) e Hotel room (0,22%). O tipo do imóvel com mais procura é o Entire home/apt, que refere-se ao aluguel de casa ou apartamento.</p>"
      ],
      "metadata": {
        "id": "G-aZPo2nj1mB"
      }
    },
    {
      "cell_type": "markdown",
      "source": [
        "## **Análise de preços**"
      ],
      "metadata": {
        "id": "YPKfRQc4HyZF"
      }
    },
    {
      "cell_type": "markdown",
      "metadata": {
        "id": "MFa5NbnLJMcd"
      },
      "source": [
        "### **Q7. Qual a localidade mais cara de Los Angeles?**\n",
        "Uma maneira de se verificar uma variável em função da outra é usando `groupby()`. No caso, queremos comparar os bairros (*neighbourhoods*) a partir do preço de locação."
      ]
    },
    {
      "cell_type": "code",
      "source": [
        "# Usando o comando 'pd.set_optio' para aumentar a quantidade de linhas exibidas no console do Python\n",
        "#pd.set_option('display.max_rows', None)\n",
        "\n",
        "# Calculando a média de preços por bairro e ordenando em ordem decrescente\n",
        "df_clean.groupby(\"neighbourhood\")['price'].mean().sort_values(ascending=True)[-10:].plot(kind='barh', color = 'orange')\n",
        "\n",
        "# Configurando as etiquetas do gráfico\n",
        "plt.title('Os 10 bairros de Los Angeles com maior custo de locação', loc='center')\n",
        "plt.xlabel('Preço médio (US$)')\n",
        "plt.ylabel('')\n",
        "print('')\n",
        "# Exibindo o gráfico\n",
        "plt.show()\n",
        "\n",
        "print(df_clean.groupby(\"neighbourhood\")['price'].mean().sort_values(ascending=False).head(10))"
      ],
      "metadata": {
        "colab": {
          "base_uri": "https://localhost:8080/",
          "height": 522
        },
        "id": "jtZL0Z8SjvHE",
        "outputId": "2aa4590e-ae7e-4273-b094-76d9988d6f14"
      },
      "execution_count": null,
      "outputs": [
        {
          "output_type": "stream",
          "name": "stdout",
          "text": [
            "\n"
          ]
        },
        {
          "output_type": "display_data",
          "data": {
            "text/plain": [
              "<Figure size 432x288 with 1 Axes>"
            ],
            "image/png": "[encoded data removed]"
          },
          "metadata": {
            "needs_background": "light"
          }
        },
        {
          "output_type": "stream",
          "name": "stdout",
          "text": [
            "neighbourhood\n",
            "Avalon                                   300.777778\n",
            "Malibu                                   296.345455\n",
            "Unincorporated Santa Monica Mountains    247.038462\n",
            "Rolling Hills Estates                    244.125000\n",
            "Topanga                                  232.771863\n",
            "Elizabeth Lake                           230.000000\n",
            "North Whittier                           227.250000\n",
            "Sepulveda Basin                          224.000000\n",
            "Hidden Hills                             223.500000\n",
            "Universal City                           221.333333\n",
            "Name: price, dtype: float64\n"
          ]
        }
      ]
    },
    {
      "cell_type": "code",
      "source": [
        "bairros = ['Avalon', 'Malibu', 'Unincorporated Santa Monica Mountains',\n",
        "           'Rolling Hills Estates', 'Topanga', 'Elizabeth Lake',\n",
        "           'North Whittier', 'Sepulveda Basin', 'Hidden Hills', 'Universal City']\n",
        "\n",
        "total_id = {}\n",
        "for bairro in bairros:\n",
        "    total = df_clean.loc[df_clean['neighbourhood'] == bairro, 'id'].count()\n",
        "    total_id[bairro] = total\n",
        "\n",
        "print('Lsta de locações dos 10 bairros mais caros: ', total_id)\n",
        "\n",
        "# Calculando o total de locações nos 10 bairros mais caros\n",
        "total_locacoes = df_clean.loc[df_clean['neighbourhood'].isin(bairros), 'id'].count()\n",
        "print(f'Total de locações nos 10 bairros mais caros: {total_locacoes} aluguéis')"
      ],
      "metadata": {
        "colab": {
          "base_uri": "https://localhost:8080/"
        },
        "id": "r3viHnW0695M",
        "outputId": "5a27213c-7d15-4be8-eb08-8f13d97abb72"
      },
      "execution_count": null,
      "outputs": [
        {
          "output_type": "stream",
          "name": "stdout",
          "text": [
            "Lsta de locações dos 10 bairros mais caros:  {'Avalon': 117, 'Malibu': 110, 'Unincorporated Santa Monica Mountains': 78, 'Rolling Hills Estates': 8, 'Topanga': 263, 'Elizabeth Lake': 1, 'North Whittier': 4, 'Sepulveda Basin': 2, 'Hidden Hills': 4, 'Universal City': 12}\n",
            "Total de locações nos 10 bairros mais caros: 599 aluguéis\n"
          ]
        }
      ]
    },
    {
      "cell_type": "markdown",
      "source": [
        "<p align=\"justify\">Os 10 bairros de Los Angeles com maior custo médio de locação, apresentam um total de 599 aluguéis. Logo, observamos que o bairro de Avalon, cujo valor médio é o mais caro de Los Angeles, com U$$ 300.77, obteve um total de 117 locações, enquanto que o bairro campeão, Topanga, obteve 263 estadias com preço médio de US$ 232.</p>"
      ],
      "metadata": {
        "id": "9fkfgxlpxoB4"
      }
    },
    {
      "cell_type": "code",
      "source": [
        "# gráfico da quantidade de alugueis, agrupadas por bairros\n",
        "\n",
        "rent = df_clean.neighbourhood.value_counts().sort_values()[-10:]\n",
        "rent.plot(kind = 'barh', color = 'orange')\n",
        "plt.title('10 Bairros campeões de locação em Los Angeles', loc='center')\n",
        "plt.xlabel('Quantidade')\n",
        "plt.ylabel('')\n",
        "plt.show()"
      ],
      "metadata": {
        "colab": {
          "base_uri": "https://localhost:8080/",
          "height": 295
        },
        "id": "RZZpPKBOrZju",
        "outputId": "e00f3fc0-2832-425a-bef8-8846f7548927"
      },
      "execution_count": null,
      "outputs": [
        {
          "output_type": "display_data",
          "data": {
            "text/plain": [
              "<Figure size 432x288 with 1 Axes>"
            ],
            "image/png": "[encoded data removed]"
          },
          "metadata": {
            "needs_background": "light"
          }
        }
      ]
    },
    {
      "cell_type": "code",
      "source": [
        "df_clean.neighbourhood.value_counts().head(10)"
      ],
      "metadata": {
        "colab": {
          "base_uri": "https://localhost:8080/"
        },
        "id": "FlE4aNVunCG2",
        "outputId": "3e7876d0-9f3a-4e52-d618-6ffb9a4749d5"
      },
      "execution_count": null,
      "outputs": [
        {
          "output_type": "execute_result",
          "data": {
            "text/plain": [
              "Hollywood          1574\n",
              "Sherman Oaks       1330\n",
              "Long Beach         1306\n",
              "Venice             1273\n",
              "Santa Monica       1082\n",
              "Downtown           1003\n",
              "Beverly Hills       970\n",
              "West Hollywood      962\n",
              "Glendale            781\n",
              "Hollywood Hills     589\n",
              "Name: neighbourhood, dtype: int64"
            ]
          },
          "metadata": {},
          "execution_count": 168
        }
      ]
    },
    {
      "cell_type": "code",
      "source": [
        "bairros = ['Hollywood', 'Sherman Oaks', 'Long Beach', 'Venice',\n",
        "           'Santa Monica', 'Downtown', 'Beverly Hills',\n",
        "           'West Hollywood', 'Glendale', 'Hollywood hills']\n",
        "\n",
        "total_id = {}\n",
        "for bairro in bairros:\n",
        "    total = df_clean.loc[df_clean['neighbourhood'] == bairro, 'id'].count()\n",
        "    total_id[bairro] = total\n",
        "\n",
        "print('Lsta dos 10 bairros com maior frequencia de locação em Los Angeles: ', total_id)\n",
        "\n",
        "# Calculando o total de locações nos 10 bairros mais caros\n",
        "total_locacoes = df_clean.loc[df_clean['neighbourhood'].isin(bairros), 'id'].count()\n",
        "print(f'Total de locações nos 10 bairros com maior frequencia em Los Angeles: {total_locacoes} aluguéis')\n",
        "\n",
        "# Calculando o preço médio dos aluguéis entre os 10 bairros com maior frequencia em Los Angeles\n",
        "total_locacoes = df_clean.loc[df_clean['neighbourhood'].isin(bairros), 'price'].mean()\n",
        "print(f'Preço médio de locação nos 10 bairros com maior frequencia em Los Angeles: US$ {total_locacoes:.2f} aluguéis')"
      ],
      "metadata": {
        "colab": {
          "base_uri": "https://localhost:8080/"
        },
        "id": "Yvdz3q0iIAlq",
        "outputId": "06c74313-aae4-4cc2-d206-f924e36fb9bd"
      },
      "execution_count": null,
      "outputs": [
        {
          "output_type": "stream",
          "name": "stdout",
          "text": [
            "Lsta dos 10 bairros com maior frequencia de locação em Los Angeles:  {'Hollywood': 1574, 'Sherman Oaks': 1330, 'Long Beach': 1306, 'Venice': 1273, 'Santa Monica': 1082, 'Downtown': 1003, 'Beverly Hills': 970, 'West Hollywood': 962, 'Glendale': 781, 'Hollywood hills': 0}\n",
            "Total de locações nos 10 bairros com maior frequencia em Los Angeles: 10281 aluguéis\n",
            "Preço médio de locação nos 10 bairros com maior frequencia em Los Angeles: US$ 161.37 aluguéis\n"
          ]
        }
      ]
    },
    {
      "cell_type": "markdown",
      "source": [
        "<p align=\"justify\">Acima, vemos que bairros como Hollywood, Sherman Oaks e Long Beach, estão entre as 10 localidades com a maior frequencia de locações em Los Angeles com um total de 10.281 locações e custo médio de US$ 161.37.</p>"
      ],
      "metadata": {
        "id": "y78EdWws3phl"
      }
    },
    {
      "cell_type": "markdown",
      "source": [
        "## **Análise geoespacial**"
      ],
      "metadata": {
        "id": "qPqbq1w5aPq2"
      }
    },
    {
      "cell_type": "markdown",
      "source": [
        "<p align=\"justify\"> Agora vamos criar um mapa de calor utilizando a biblioteca folium e a função HeatMap, que utiliza as coordenadas de latitude e longitude dos imóveis para criar uma representação visual da densidade de hospedagens em Los Angeles. Neste caso, vamos plotar o gráfico diretamente no arquivo notebook, porém poderíamos ter plotado em um \"arquivo.html\".</p>\n",
        "\n",
        "<p align=\"justify\"> No código abaixo, as coordenadas geográficas  [34.0522, -118.2437] são utilizadas para definir a localização central do mapa que será criado, onde o primeiro elemento [34.0522] corresponde à latitude da localização central do mapa, enquanto a segunda coordenada [-118.2437] corresponde à longitude. Esses valores são utilizados pelo módulo folium para centrar o mapa na região de Los Angeles.</p>\n",
        "\n",
        "<p align=\"justify\">Os valores exatos [34.0522, -118.2437] correspondem à latitude e longitude da Union Station em Los Angeles, que é uma das principais estações de transporte público da cidade e pode ser considerada um ponto central da região.</p>"
      ],
      "metadata": {
        "id": "ZCCTkAhegEs1"
      }
    },
    {
      "cell_type": "code",
      "source": [
        "#plot dos imóveis pela latitude-longitude\n",
        "\n",
        "#localização central do mapa e o zoom inicial\n",
        "map = folium.Map(location=[34.0522, -118.2437], zoom_start=10)\n",
        "\n",
        "#transforma a latitude e longitude em forma de tuplas e depois salva como uma lista\n",
        "localization = list(zip(df_clean[\"latitude\"], df_clean[\"longitude\"]))\n",
        "\n",
        "#cria os pontos que serão mostrados no mapa\n",
        "marker_cluster = MarkerCluster(localization)\n",
        "\n",
        "#adiciona os pontos no mapa\n",
        "marker_cluster.add_to(map)\n",
        "\n",
        "#mostra o mapa\n",
        "map"
      ],
      "metadata": {
        "id": "1x2pTUHGB0r4"
      },
      "execution_count": null,
      "outputs": []
    },
    {
      "cell_type": "markdown",
      "source": [
        "<p align=\"justify\">Em seguida, vamos novamente calcular a média de preços das locações, classificando apenas os 10 bairros com os maiores valores de locação em Los Angeles e mostrá-los por uma mapa de calor, conforme abaixo:</p>"
      ],
      "metadata": {
        "id": "LtfijW8N5sPI"
      }
    },
    {
      "cell_type": "code",
      "source": [
        "# agrupa as entradas por bairro e calcula a média dos preços das locações\n",
        "grouped = df_clean.groupby(\"neighbourhood\").mean()[\"price\"]\n",
        "\n",
        "# classifica os bairros com base nos preços médios em ordem decrescente e seleciona os 10 primeiros\n",
        "top_10 = grouped.sort_values(ascending=False)[:10]\n",
        "\n",
        "# cria um novo DataFrame apenas com as entradas dos 10 bairros mais caros\n",
        "imoveis_mais_caros = df_clean[df_clean[\"neighbourhood\"].isin(top_10.index)]\n",
        "\n",
        "# localização central do mapa e o zoom inicial\n",
        "map = folium.Map(location=[34.0522, -118.2437], zoom_start=10)\n",
        "\n",
        "# transforma a latitude e longitude em forma de tuplas e depois salva como uma lista\n",
        "localization = list(zip(imoveis_mais_caros[\"latitude\"], imoveis_mais_caros[\"longitude\"]))\n",
        "\n",
        "# cria os pontos que serão mostrados no mapa\n",
        "heat_map = HeatMap(localization)\n",
        "\n",
        "# adiciona os pontos no mapa\n",
        "heat_map.add_to(map)\n",
        "\n",
        "# mostra o mapa\n",
        "map"
      ],
      "metadata": {
        "id": "qFXDmbqM2hap"
      },
      "execution_count": null,
      "outputs": []
    },
    {
      "cell_type": "markdown",
      "source": [
        "Através deste segundo mapa de calor, poderemos visualizar a região dos 10 bairros com a maior frequencia de locação em Los Angeles."
      ],
      "metadata": {
        "id": "7EBYeJaO7R_1"
      }
    },
    {
      "cell_type": "code",
      "source": [
        "# conta o número de ocorrências de cada bairro e seleciona os 10 primeiros\n",
        "top_10 = df_clean[\"neighbourhood\"].value_counts()[:10]\n",
        "\n",
        "# cria um novo DataFrame apenas com as entradas dos 10 maiores bairros\n",
        "imoveis_mais_frequentes = df_clean[df_clean[\"neighbourhood\"].isin(top_10.index)]\n",
        "\n",
        "# localização central do mapa e o zoom inicial\n",
        "map = folium.Map(location=[34.0522, -118.2437], zoom_start=10)\n",
        "\n",
        "# transforma a latitude e longitude em forma de tuplas e depois salva como uma lista\n",
        "localization = list(zip(imoveis_mais_frequentes[\"latitude\"], imoveis_mais_frequentes[\"longitude\"]))\n",
        "\n",
        "# cria os pontos que serão mostrados no mapa\n",
        "heat_map = HeatMap(localization)\n",
        "\n",
        "# adiciona os pontos no mapa\n",
        "heat_map.add_to(map)\n",
        "\n",
        "# mostra o mapa\n",
        "map"
      ],
      "metadata": {
        "id": "pIhWczzu5L69"
      },
      "execution_count": null,
      "outputs": []
    },
    {
      "cell_type": "markdown",
      "source": [
        "## **Análise de comentários e avaliações (reviews)**"
      ],
      "metadata": {
        "id": "nwQOPftY6AtB"
      }
    },
    {
      "cell_type": "markdown",
      "source": [
        "<p align=\"justify\">Como a análise deste projeto foi realizada usando apenas a versão resumida do arquivo \"listings.csv\" de Los Angeles com 18 atributos, fica prejudicada as conclusões sobre a análise de comentários e avaliações dos imóveis.</p>\n",
        "\n",
        "<p align=\"justify\">Para encontrarmos correlações positivas sobre os comentários e avaliações dos imóveis, é recomendado a utilização do arquivo em sua versão completa, denominado \"listings.csv.gz\", disponível no portal Inside Airbnb.</p>\n",
        "\n",
        "<p align=\"justify\">Através da versão completa do arquivo, temos 8 variáveis que são relevantes para a análise dos comentários e avaliações, são elas:</p>\n",
        "\n",
        ">'number_of_reviews'<br>\n",
        ">'review_scores_rating'<br>\n",
        ">'review_scores_accuracy'<br>\n",
        ">'review_scores_cleanliness'<br>\n",
        ">'review_scores_checkin'<br>\n",
        ">'review_scores_communication'<br>\n",
        ">'review_scores_location'<br>\n",
        ">'review_scores_value'\n",
        "\n",
        "<p align=\"justify\">Os insights que seriam levantados sobre os comentários e avaliações dos imóveis, podem ajudar os anfitriões das propriedades a entender  melhor como as avaliações são distribuídas, quais características impactam o desempenho, afetam a disponibilidade e a popularidade de suas propriedades. Além disso, podem ser usadas para melhorar a qualidade das propriedades e a experiência do usuário.</p> \n",
        "\n"
      ],
      "metadata": {
        "id": "fgcDsrSc6ItC"
      }
    },
    {
      "cell_type": "markdown",
      "metadata": {
        "id": "GkvAg623RjoR"
      },
      "source": [
        "## Conclusões\n"
      ]
    },
    {
      "cell_type": "markdown",
      "metadata": {
        "id": "rbZ3Hsy9Ypw8"
      },
      "source": [
        "Ao analisar os dados brutos do arquivo \"listings.csv\", fornecido pelo portal Inside Airbnb para Los Angeles, com sua última atualização em 06 de dezembro de 2022, foi possível obter as seguintes conclusões:\n",
        "\n",
        "><p align=\"justify\">Fica evidente que, mesmo realizando uma análise superficial sobre a versão resumida do dataset do Airbnb para a cidade de Los Angeles, foram encontrados diversos valores ausentes, nulos e outliers entre as variáveis.</p>\n",
        "\n",
        "><p align=\"justify\">Nota-se que em algumas localidades há poucos imóveis disponíveis para locação, e isso pode influenciar no resultado de análise.</p>\n",
        "\n",
        "><p align=\"justify\">O arquivo na versão resumida, contêm 18 colunas e um total de 40.438 linhas. Cada linha do arquivo representa uma registro único de acomodação em Los Angeles.</p>\n",
        "\n",
        "><p align=\"justify\">Após efetuarmos a limpeza dos dados do dataset analisado, excluindo os outliers da amostra e preenchendo os valores ausentes pela mediana para não influenciar no resultado, o número total de hospedagens em Los Angeles foi de 34.909.</p> \n",
        "\n",
        "><p align=\"justify\">O preço médio de uma diária na hospedagem do Airbnb em Los Angeles é de US$ 149.44.</p>\n",
        "\n",
        "><p align=\"justify\">O número mínimo médio de noites necessárias para entrar em uma listagem da cidade de Los Angeles é de 17.</p>\n",
        "\n",
        "><p align=\"justify\">Dentre os 10 bairros de Los Angeles que apresentaram o maior custo médio de locação, destaca-se o bairro de Avalon, com um custo médio de U$$ 300.77 e um total de 117 locações, enquanto que o bairro campeão, Topanga, obteve 263 estadias com um preço médio de US$ 232.00</p>\n",
        "\n",
        "><p align=\"justify\">Já os bairros como Hollywood, Sherman Oaks e Long Beach, estão entre as 10 localidades com a maior frequencia de locações em Los Angeles com um total de 10.281 locações e custo médio de US$ 161.37.</p>\n",
        "\n",
        "><p align=\"justify\">Podemos usar as informações do arquivo para responder a diversas perguntas sobre o mercado de aluguel de acomodações em Los Angeles, como por exemplo: Quais são as regiões mais populares para aluguel de acomodações? Qual é a média de preços por região? Quais tipos de acomodações são mais comuns? Entre outras.</p>\n",
        "\n",
        "><p align=\"justify\">É importante notar que, embora esses dados sejam coletados do site Airbnb, eles são dados públicos e podem ser usados para análises de mercado e outros fins. No entanto, é importante seguir as políticas de uso de dados do site e considerar a privacidade dos proprietários de acomodações.</p>\n",
        "\n",
        "><p align=\"justify\">Por fim, vale lembrar que este dataset é uma versão resumida, ideal apenas para uma abordagem inicial. Recomenda-se que seja usado, em uma próxima análise exploratória, o conjunto de dados completo, com 75 atributos disponíveis no arquivo denominado \"listings.csv.gz\".</p>"
      ]
    }
  ]
}